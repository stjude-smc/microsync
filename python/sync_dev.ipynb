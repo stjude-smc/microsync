{
 "cells": [
  {
   "cell_type": "markdown",
   "id": "a50c5506-3f10-4134-be39-2ab2250a35ba",
   "metadata": {},
   "source": [
    "# Microscope sync device based on a 32-bit ARM microcontroller"
   ]
  },
  {
   "cell_type": "code",
   "execution_count": 1,
   "id": "a28518b7-4b2e-4c56-9eec-3ad6cc1161f3",
   "metadata": {},
   "outputs": [],
   "source": [
    "from sync_dev import SyncDevice, props\n",
    "import time"
   ]
  },
  {
   "cell_type": "markdown",
   "id": "ca29ec3f-9033-4239-9c1a-b47af98d5700",
   "metadata": {},
   "source": [
    "## Communication logging\n",
    "You can log all serial port communication by setting the `log_file` argument when you connect to the sync device."
   ]
  },
  {
   "cell_type": "code",
   "execution_count": 2,
   "id": "d83251fb-d8d2-4064-ba4d-b591a9ce1fad",
   "metadata": {},
   "outputs": [],
   "source": [
    "log_file = None                   # no logging\n",
    "log_file = 'sync_device log.txt'  # save to file\n",
    "log_file = 'print'                # print here\n"
   ]
  },
  {
   "cell_type": "code",
   "execution_count": 3,
   "id": "46d9f3da-409d-4cfa-bff8-c536c938c407",
   "metadata": {},
   "outputs": [
    {
     "name": "stdout",
     "output_type": "stream",
     "text": [
      "2024-10-28 16:29:15.519 RX: Sync device is ready. Firmware version: 2.1.0\n",
      "\n",
      "2024-10-28 16:29:15.549 TX: bytearray(b'GET\\x00\\x00\\x00\\x00\\x00\\x00\\x00\\x00\\x00\\x00\\x00\\x00\\x00\\x00\\x00\\x00\\x00\\x00\\x00\\x00\\x00')\n",
      "2024-10-28 16:29:15.555 RX: 2.1.0\n",
      "\n",
      "2024-10-28 16:29:15.555 TX: bytearray(b'FUN\\x00\\x00\\x00\\x00\\x00\\x00\\x00\\x00\\x00\\x00\\x00\\x00\\x00\\x00\\x00\\x00\\x00\\x00\\x00\\x00\\x00')\n"
     ]
    }
   ],
   "source": [
    "sd = SyncDevice(\"COM4\", log_file=log_file)"
   ]
  },
  {
   "cell_type": "markdown",
   "id": "ac770f1f-a260-4d5b-8ad7-d401bee40fdc",
   "metadata": {},
   "source": [
    "Let's disable logging, otherwise it will be too much text here"
   ]
  },
  {
   "cell_type": "code",
   "execution_count": 4,
   "id": "9c40566d-812c-44c0-8bdd-2e2e023b0468",
   "metadata": {},
   "outputs": [
    {
     "name": "stdout",
     "output_type": "stream",
     "text": [
      "COM4 is in use. Closing and re-opening...\n"
     ]
    }
   ],
   "source": [
    "sd = SyncDevice(\"COM4\", log_file=None)"
   ]
  },
  {
   "cell_type": "markdown",
   "id": "5352eaed-bac9-4465-a7b3-96ceda54f68d",
   "metadata": {},
   "source": [
    "You can get an overview of the system status with `get_status()` method, or by just printing the synchronization device:"
   ]
  },
  {
   "cell_type": "code",
   "execution_count": 5,
   "id": "56e90238-8b0b-4022-905d-c763d9696abc",
   "metadata": {},
   "outputs": [
    {
     "data": {
      "text/plain": [
       "SYNC DEVICE v2.1.0\n",
       "-- SYSTEM STATUS --\n",
       "Event queue size: 0\n",
       "System counter is RUNNING\n",
       "System time: 0.217175 s"
      ]
     },
     "execution_count": 5,
     "metadata": {},
     "output_type": "execute_result"
    }
   ],
   "source": [
    "sd"
   ]
  },
  {
   "cell_type": "markdown",
   "id": "ab4b1a7c-64bb-41ba-b84a-7206cb2ca4c5",
   "metadata": {},
   "source": [
    "## Device properties\n",
    "The sync device has properties (see *globals.h* file), which could be access using `get_property()` method or directly as a class attribute. Most of \n",
    "them are read-only, while others are read/write."
   ]
  },
  {
   "cell_type": "code",
   "execution_count": 6,
   "id": "7f16f05f-c505-456d-9f3e-8574bede8185",
   "metadata": {},
   "outputs": [
    {
     "data": {
      "text/plain": [
       "['ro_N_EVENTS',\n",
       " 'ro_SYS_TIMER_OVF_COUNT',\n",
       " 'ro_SYS_TIMER_PRESCALER',\n",
       " 'ro_SYS_TIMER_STATUS',\n",
       " 'ro_SYS_TIMER_VALUE',\n",
       " 'ro_SYS_TIME_s',\n",
       " 'ro_VERSION',\n",
       " 'ro_WATCHDOG_TIMEOUT_ms',\n",
       " 'rw_DFLT_PULSE_DURATION_us',\n",
       " 'rw_INTLCK_ENABLED']"
      ]
     },
     "execution_count": 6,
     "metadata": {},
     "output_type": "execute_result"
    }
   ],
   "source": [
    "[p for p in dir(props) if not p.startswith(\"__\")]"
   ]
  },
  {
   "cell_type": "code",
   "execution_count": 7,
   "id": "56a28a50-1787-4166-8b5a-12f4e258ceb3",
   "metadata": {},
   "outputs": [
    {
     "name": "stdout",
     "output_type": "stream",
     "text": [
      "2.1.0\n",
      "2.1.0\n"
     ]
    }
   ],
   "source": [
    "print(sd.get_property(props.ro_VERSION))\n",
    "\n",
    "# or easier\n",
    "print(sd.version)"
   ]
  },
  {
   "cell_type": "code",
   "execution_count": 8,
   "id": "86fcd5fd-1061-415e-864a-99cc735f1cde",
   "metadata": {},
   "outputs": [
    {
     "name": "stdout",
     "output_type": "stream",
     "text": [
      "Interlock active? True\n",
      "Interlock active? False\n"
     ]
    }
   ],
   "source": [
    "# Is interlock active?\n",
    "print(f\"Interlock active? {sd.interlock_enabled}\")\n",
    "\n",
    "# Let's disable the interlock\n",
    "sd.interlock_enabled = False\n",
    "\n",
    "print(f\"Interlock active? {sd.interlock_enabled}\")"
   ]
  },
  {
   "cell_type": "code",
   "execution_count": 9,
   "id": "9032e8d8-434e-4a1f-88a3-f6a3a333430d",
   "metadata": {},
   "outputs": [
    {
     "ename": "AttributeError",
     "evalue": "property 'version' of 'SyncDevice' object has no setter",
     "output_type": "error",
     "traceback": [
      "\u001b[1;31m---------------------------------------------------------------------------\u001b[0m",
      "\u001b[1;31mAttributeError\u001b[0m                            Traceback (most recent call last)",
      "Cell \u001b[1;32mIn[9], line 2\u001b[0m\n\u001b[0;32m      1\u001b[0m \u001b[38;5;66;03m# You can't set a read-only property\u001b[39;00m\n\u001b[1;32m----> 2\u001b[0m sd\u001b[38;5;241m.\u001b[39mversion \u001b[38;5;241m=\u001b[39m \u001b[38;5;124m\"\u001b[39m\u001b[38;5;124mx.y.z\u001b[39m\u001b[38;5;124m\"\u001b[39m\n",
      "\u001b[1;31mAttributeError\u001b[0m: property 'version' of 'SyncDevice' object has no setter"
     ]
    }
   ],
   "source": [
    "# You can't set a read-only property\n",
    "sd.version = \"x.y.z\""
   ]
  },
  {
   "cell_type": "markdown",
   "id": "bfa6a99f-8e55-4e50-b984-712cd26f053b",
   "metadata": {},
   "source": [
    "## Creating events and sending signals\n",
    "You can schedule events, such as set/reset pin, toggle pin, send pulse, etc. Each event has:\n",
    " * up to two arguments\n",
    " * a corresponding timestamp,\n",
    " * number of occurences,\n",
    " * and an interval between occurences\n",
    "\n",
    "The microcontroller puts all events into an ordered priority queue, where they are sorted by timestamp, from the earliest to the latest. If the system timer is running, it will grab the next scheduled event and execute it exactly at the timestamp of this event. If necessary, the event will be rescheduled.\n",
    "\n",
    "Let's schedule a couple of positive pulses (\"PPL\" command in the protocol). You will see signals on Arduino pins A0 and A1, as well as a list of events (method `get_events()`). The timestamp `ts` is relative to the current time point."
   ]
  },
  {
   "cell_type": "code",
   "execution_count": 10,
   "id": "46628597-96c4-4315-9f01-f0fca60f594d",
   "metadata": {},
   "outputs": [
    {
     "data": {
      "text/plain": [
       "[SET_PIN(16 , 0  ) at t=       4378ms. Call    120 times every         50 ms,\n",
       " SET_PIN(16 , 1  ) at t=       4420ms. Call    119 times every         50 ms,\n",
       " SET_PIN(24 , 1  ) at t=       5368ms. Call     25 times every         70 ms,\n",
       " SET_PIN(24 , 0  ) at t=       5418ms. Call     25 times every         70 ms]"
      ]
     },
     "execution_count": 10,
     "metadata": {},
     "output_type": "execute_result"
    }
   ],
   "source": [
    "sd.pos_pulse(\"A1\", 50000, ts=1000000, N=25, interval=70000)\n",
    "sd.pos_pulse(\"A0\", 8000, N=120, interval=50000)\n",
    "sd.get_events()"
   ]
  },
  {
   "cell_type": "markdown",
   "id": "a9d3d20a-bc5c-4759-ba86-437f0c70f6a5",
   "metadata": {},
   "source": [
    "### Context manager\n",
    "In the previous example, events were scheduled using individual lines of Python code, which resulted in individual data transmission to the sync device. The instructions are processed immediately, however, they can arrive 10-25 ms apart from each other, and there is no way to predict the time delay your computer puts between them.\n",
    "\n",
    "If you want tighter timings between the requested events, use the context manager. Every command within the context manager gets queued in a buffer, and the entire buffer is transmitted the moment you exit the context manager. The time delay between subsequent commands should be exactly 1.88ms (time to transmit 24 bytes at 115200 baud). Below is the example"
   ]
  },
  {
   "cell_type": "code",
   "execution_count": 11,
   "id": "425e4c92-aec4-4969-bcd4-a8a0a6772aa7",
   "metadata": {},
   "outputs": [
    {
     "data": {
      "text/plain": [
       "[SET_PIN(47 , 0  ) at t=      11374ms. Call     10 times every        500 ms,\n",
       " SET_PIN(16 , 0  ) at t=      11381ms. Call     10 times every        500 ms,\n",
       " SET_PIN(24 , 1  ) at t=      11385ms. Call     10 times every        500 ms,\n",
       " SET_PIN(47 , 0  ) at t=      11388ms. Call     10 times every        500 ms,\n",
       " SET_PIN(47 , 1  ) at t=      11482ms. Call     10 times every        500 ms,\n",
       " SET_PIN(24 , 0  ) at t=      11485ms. Call     10 times every        500 ms,\n",
       " SET_PIN(23 , 1  ) at t=      11489ms. Call     10 times every        500 ms,\n",
       " SET_PIN(47 , 0  ) at t=      11582ms. Call     10 times every        500 ms,\n",
       " SET_PIN(47 , 1  ) at t=      11586ms. Call     10 times every        500 ms,\n",
       " SET_PIN(23 , 0  ) at t=      11589ms. Call     10 times every        500 ms,\n",
       " SET_PIN(22 , 1  ) at t=      11593ms. Call     10 times every        500 ms,\n",
       " SET_PIN(47 , 0  ) at t=      11686ms. Call     10 times every        500 ms,\n",
       " SET_PIN(22 , 0  ) at t=      11693ms. Call     10 times every        500 ms,\n",
       " SET_PIN(47 , 1  ) at t=      11774ms. Call      9 times every        500 ms,\n",
       " SET_PIN(16 , 1  ) at t=      11781ms. Call      9 times every        500 ms,\n",
       " SET_PIN(47 , 1  ) at t=      11788ms. Call      9 times every        500 ms]"
      ]
     },
     "execution_count": 11,
     "metadata": {},
     "output_type": "execute_result"
    }
   ],
   "source": [
    "with sd as dev:\n",
    "    dev.pos_pulse(\"A12\",100000, N=10, interval=500000, ts=0)\n",
    "    dev.pos_pulse(\"A0\", 100000, N=10, interval=500000, ts=5000)\n",
    "    dev.pos_pulse(\"A12\",100000, N=10, interval=500000, ts=10000)\n",
    "    dev.pos_pulse(\"A1\", 100000, N=10, interval=500000, ts=105000)\n",
    "    dev.pos_pulse(\"A12\",100000, N=10, interval=500000, ts=200000)\n",
    "    dev.pos_pulse(\"A2\", 100000, N=10, interval=500000, ts=205000)\n",
    "    dev.pos_pulse(\"A12\",100000, N=10, interval=500000, ts=300000)\n",
    "    dev.pos_pulse(\"A3\", 100000, N=10, interval=500000, ts=305000)\n",
    "sd.get_events()"
   ]
  },
  {
   "cell_type": "markdown",
   "id": "725e7eab-4400-4664-88d7-c5756b19d1f9",
   "metadata": {},
   "source": [
    "## Precise timings with stopping/starting system timer\n",
    "If you have several events and need exact time intervals between them, you should stop system timer, program your events, and then re-start the system timer. No events are processes when the timer is stopped.\n"
   ]
  },
  {
   "cell_type": "code",
   "execution_count": 12,
   "id": "5cc13565-1dee-434f-9c73-c3010e7a4c50",
   "metadata": {},
   "outputs": [
    {
     "data": {
      "text/plain": [
       "True"
      ]
     },
     "execution_count": 12,
     "metadata": {},
     "output_type": "execute_result"
    }
   ],
   "source": [
    "sd.running"
   ]
  },
  {
   "cell_type": "code",
   "execution_count": 13,
   "id": "f3bff9b2-a076-4691-8333-366a32f751ad",
   "metadata": {},
   "outputs": [
    {
     "data": {
      "text/plain": [
       "False"
      ]
     },
     "execution_count": 13,
     "metadata": {},
     "output_type": "execute_result"
    }
   ],
   "source": [
    "sd.stop()\n",
    "sd.running"
   ]
  },
  {
   "cell_type": "code",
   "execution_count": 14,
   "id": "2bea2e33-a070-4f50-aea6-d787ba610670",
   "metadata": {},
   "outputs": [
    {
     "data": {
      "text/plain": [
       "[SET_PIN(47 , 1  ) at t=          0ms. Call     10 times every        500 ms,\n",
       " SET_PIN(16 , 1  ) at t=          5ms. Call     10 times every        500 ms,\n",
       " SET_PIN(47 , 1  ) at t=         10ms. Call     10 times every        500 ms,\n",
       " SET_PIN(47 , 0  ) at t=        100ms. Call     10 times every        500 ms,\n",
       " SET_PIN(24 , 1  ) at t=        105ms. Call     10 times every        500 ms,\n",
       " SET_PIN(16 , 0  ) at t=        105ms. Call     10 times every        500 ms,\n",
       " SET_PIN(47 , 0  ) at t=        110ms. Call     10 times every        500 ms,\n",
       " SET_PIN(47 , 1  ) at t=        200ms. Call     10 times every        500 ms,\n",
       " SET_PIN(23 , 1  ) at t=        205ms. Call     10 times every        500 ms,\n",
       " SET_PIN(24 , 0  ) at t=        205ms. Call     10 times every        500 ms,\n",
       " SET_PIN(47 , 1  ) at t=        300ms. Call     10 times every        500 ms,\n",
       " SET_PIN(47 , 0  ) at t=        300ms. Call     10 times every        500 ms,\n",
       " SET_PIN(22 , 1  ) at t=        305ms. Call     10 times every        500 ms,\n",
       " SET_PIN(23 , 0  ) at t=        305ms. Call     10 times every        500 ms,\n",
       " SET_PIN(47 , 0  ) at t=        400ms. Call     10 times every        500 ms,\n",
       " SET_PIN(22 , 0  ) at t=        405ms. Call     10 times every        500 ms]"
      ]
     },
     "execution_count": 14,
     "metadata": {},
     "output_type": "execute_result"
    }
   ],
   "source": [
    "sd.pos_pulse(\"A12\",100000, N=10, interval=500000, ts=0)\n",
    "sd.pos_pulse(\"A0\", 100000, N=10, interval=500000, ts=5000)\n",
    "sd.pos_pulse(\"A12\",100000, N=10, interval=500000, ts=10000)\n",
    "sd.pos_pulse(\"A1\", 100000, N=10, interval=500000, ts=105000)\n",
    "sd.pos_pulse(\"A12\",100000, N=10, interval=500000, ts=200000)\n",
    "sd.pos_pulse(\"A2\", 100000, N=10, interval=500000, ts=205000)\n",
    "sd.pos_pulse(\"A12\",100000, N=10, interval=500000, ts=300000)\n",
    "sd.pos_pulse(\"A3\", 100000, N=10, interval=500000, ts=305000)\n",
    "sd.get_events()"
   ]
  },
  {
   "cell_type": "markdown",
   "id": "45773ccb-cf26-4db9-8390-049eae17458a",
   "metadata": {},
   "source": [
    "Let's add two more events that would toggle pin D4 at close frequency, causing the connected LED to gradually change apparent brightness."
   ]
  },
  {
   "cell_type": "code",
   "execution_count": 15,
   "id": "ed58d2f1-f657-4e5c-a0de-2f05d8df1509",
   "metadata": {},
   "outputs": [
    {
     "data": {
      "text/plain": [
       "[SET_PIN(47 , 1  ) at t=          0us. Call     10 times every     500000 us,\n",
       " TGL_PIN(12 , 0  ) at t=          0us. Call  10000 times every        499 us,\n",
       " TGL_PIN(12 , 0  ) at t=          0us. Call  10000 times every        500 us,\n",
       " SET_PIN(16 , 1  ) at t=       5000us. Call     10 times every     500000 us,\n",
       " SET_PIN(47 , 1  ) at t=      10000us. Call     10 times every     500000 us,\n",
       " SET_PIN(47 , 0  ) at t=     100000us. Call     10 times every     500000 us,\n",
       " SET_PIN(24 , 1  ) at t=     105000us. Call     10 times every     500000 us,\n",
       " SET_PIN(16 , 0  ) at t=     105000us. Call     10 times every     500000 us,\n",
       " SET_PIN(47 , 0  ) at t=     110000us. Call     10 times every     500000 us,\n",
       " SET_PIN(47 , 1  ) at t=     200000us. Call     10 times every     500000 us,\n",
       " SET_PIN(23 , 1  ) at t=     205000us. Call     10 times every     500000 us,\n",
       " SET_PIN(24 , 0  ) at t=     205000us. Call     10 times every     500000 us,\n",
       " SET_PIN(47 , 1  ) at t=     300000us. Call     10 times every     500000 us,\n",
       " SET_PIN(47 , 0  ) at t=     300000us. Call     10 times every     500000 us,\n",
       " SET_PIN(22 , 1  ) at t=     305000us. Call     10 times every     500000 us,\n",
       " SET_PIN(23 , 0  ) at t=     305000us. Call     10 times every     500000 us,\n",
       " SET_PIN(47 , 0  ) at t=     400000us. Call     10 times every     500000 us,\n",
       " SET_PIN(22 , 0  ) at t=     405000us. Call     10 times every     500000 us]"
      ]
     },
     "execution_count": 15,
     "metadata": {},
     "output_type": "execute_result"
    }
   ],
   "source": [
    "sd.tgl_pin(\"D17\", N=10000, interval=500)\n",
    "sd.tgl_pin(\"D17\", N=10000, interval=501)\n",
    "sd.get_events(\"us\")"
   ]
  },
  {
   "cell_type": "code",
   "execution_count": 16,
   "id": "4c1ef8a7-eb97-473b-8f6d-4d579cf2cd17",
   "metadata": {},
   "outputs": [
    {
     "data": {
      "text/plain": [
       "SYNC DEVICE v2.1.0\n",
       "-- SYSTEM STATUS --\n",
       "Event queue size: 18\n",
       "System counter is STOPPED\n",
       "System time: 18.184052 s"
      ]
     },
     "execution_count": 16,
     "metadata": {},
     "output_type": "execute_result"
    }
   ],
   "source": [
    "sd"
   ]
  },
  {
   "cell_type": "code",
   "execution_count": 17,
   "id": "9110d8e7-e089-4d0f-929e-f65011abba93",
   "metadata": {},
   "outputs": [
    {
     "data": {
      "text/plain": [
       "[TGL_PIN(12 , 0  ) at t=    1007916us. Call   7988 times every        500 us,\n",
       " TGL_PIN(12 , 0  ) at t=    1008115us. Call   7983 times every        499 us,\n",
       " SET_PIN(47 , 1  ) at t=    1010000us. Call      8 times every     500000 us,\n",
       " SET_PIN(47 , 0  ) at t=    1100000us. Call      8 times every     500000 us,\n",
       " SET_PIN(24 , 1  ) at t=    1105000us. Call      8 times every     500000 us,\n",
       " SET_PIN(16 , 0  ) at t=    1105000us. Call      8 times every     500000 us,\n",
       " SET_PIN(47 , 0  ) at t=    1110000us. Call      8 times every     500000 us,\n",
       " SET_PIN(47 , 1  ) at t=    1200000us. Call      8 times every     500000 us,\n",
       " SET_PIN(24 , 0  ) at t=    1205000us. Call      8 times every     500000 us,\n",
       " SET_PIN(23 , 1  ) at t=    1205000us. Call      8 times every     500000 us,\n",
       " SET_PIN(47 , 1  ) at t=    1300000us. Call      8 times every     500000 us,\n",
       " SET_PIN(47 , 0  ) at t=    1300000us. Call      8 times every     500000 us,\n",
       " SET_PIN(22 , 1  ) at t=    1305000us. Call      8 times every     500000 us,\n",
       " SET_PIN(23 , 0  ) at t=    1305000us. Call      8 times every     500000 us,\n",
       " SET_PIN(47 , 0  ) at t=    1400000us. Call      8 times every     500000 us,\n",
       " SET_PIN(22 , 0  ) at t=    1405000us. Call      8 times every     500000 us,\n",
       " SET_PIN(47 , 1  ) at t=    1500000us. Call      7 times every     500000 us,\n",
       " SET_PIN(16 , 1  ) at t=    1505000us. Call      7 times every     500000 us]"
      ]
     },
     "execution_count": 17,
     "metadata": {},
     "output_type": "execute_result"
    }
   ],
   "source": [
    "# Now we have 18 scheduled events, let them run\n",
    "sd.go()\n",
    "time.sleep(1)\n",
    "sd.get_events(\"us\")"
   ]
  },
  {
   "cell_type": "markdown",
   "id": "c88f4a90-480e-4d94-95a3-f8262c8b5aa5",
   "metadata": {},
   "source": [
    "If you connect oscilloscope, you will see that the time intervals between the events are exactly what you requested, down to microseconds. You will see jitter is two or more events occur very close to each other (closer than ~10us). If two events are scheduled to happen at the same timestamp, their order is undefined. Avoid scheduling of same events if you can."
   ]
  },
  {
   "cell_type": "code",
   "execution_count": 18,
   "id": "3f86b2c3-5a5f-4e5c-a7dd-e7bb83160e89",
   "metadata": {},
   "outputs": [
    {
     "data": {
      "text/plain": [
       "[TGL_PIN(12 , 0  ) at t=          0ms. Call  10000 times every          1 ms,\n",
       " TGL_PIN(12 , 0  ) at t=          0ms. Call  10000 times every          1 ms,\n",
       " TGL_PIN(12 , 0  ) at t=          0ms. Call  10000 times every          1 ms,\n",
       " TGL_PIN(12 , 0  ) at t=          0ms. Call  10000 times every          1 ms,\n",
       " TGL_PIN(12 , 0  ) at t=          0ms. Call  10000 times every          1 ms,\n",
       " TGL_PIN(12 , 0  ) at t=          0ms. Call  10000 times every          1 ms,\n",
       " TGL_PIN(12 , 0  ) at t=          0ms. Call  10000 times every          1 ms,\n",
       " TGL_PIN(12 , 0  ) at t=          0ms. Call  10000 times every          1 ms,\n",
       " TGL_PIN(12 , 0  ) at t=          0ms. Call  10000 times every          1 ms,\n",
       " TGL_PIN(12 , 0  ) at t=          0ms. Call  10000 times every          1 ms,\n",
       " TGL_PIN(12 , 0  ) at t=          0ms. Call  10000 times every          1 ms,\n",
       " TGL_PIN(12 , 0  ) at t=          0ms. Call  10000 times every          1 ms,\n",
       " TGL_PIN(12 , 0  ) at t=          0ms. Call  10000 times every          1 ms,\n",
       " TGL_PIN(12 , 0  ) at t=          0ms. Call  10000 times every          1 ms,\n",
       " TGL_PIN(12 , 0  ) at t=          0ms. Call  10000 times every          1 ms,\n",
       " TGL_PIN(12 , 0  ) at t=          0ms. Call  10000 times every          1 ms,\n",
       " TGL_PIN(12 , 0  ) at t=          0ms. Call  10000 times every          1 ms,\n",
       " TGL_PIN(12 , 0  ) at t=          0ms. Call  10000 times every          1 ms,\n",
       " TGL_PIN(12 , 0  ) at t=          0ms. Call  10000 times every          1 ms,\n",
       " TGL_PIN(12 , 0  ) at t=          0ms. Call  10000 times every          1 ms,\n",
       " TGL_PIN(12 , 0  ) at t=          0ms. Call  10000 times every          1 ms,\n",
       " TGL_PIN(12 , 0  ) at t=          1ms. Call  10000 times every          1 ms,\n",
       " TGL_PIN(12 , 0  ) at t=          1ms. Call  10000 times every          1 ms,\n",
       " TGL_PIN(12 , 0  ) at t=          1ms. Call  10000 times every          1 ms,\n",
       " TGL_PIN(12 , 0  ) at t=          1ms. Call  10000 times every          1 ms,\n",
       " TGL_PIN(12 , 0  ) at t=          1ms. Call  10000 times every          1 ms,\n",
       " TGL_PIN(12 , 0  ) at t=          1ms. Call  10000 times every          1 ms,\n",
       " TGL_PIN(12 , 0  ) at t=          1ms. Call  10000 times every          1 ms,\n",
       " TGL_PIN(12 , 0  ) at t=          1ms. Call  10000 times every          1 ms,\n",
       " TGL_PIN(12 , 0  ) at t=          1ms. Call  10000 times every          1 ms,\n",
       " TGL_PIN(12 , 0  ) at t=          1ms. Call  10000 times every          1 ms,\n",
       " TGL_PIN(12 , 0  ) at t=          1ms. Call  10000 times every          1 ms,\n",
       " TGL_PIN(12 , 0  ) at t=          1ms. Call  10000 times every          1 ms,\n",
       " TGL_PIN(12 , 0  ) at t=          1ms. Call  10000 times every          1 ms,\n",
       " TGL_PIN(12 , 0  ) at t=          1ms. Call  10000 times every          1 ms,\n",
       " TGL_PIN(12 , 0  ) at t=          1ms. Call  10000 times every          1 ms,\n",
       " TGL_PIN(12 , 0  ) at t=          1ms. Call  10000 times every          1 ms,\n",
       " TGL_PIN(12 , 0  ) at t=          1ms. Call  10000 times every          1 ms,\n",
       " TGL_PIN(12 , 0  ) at t=          1ms. Call  10000 times every          1 ms,\n",
       " TGL_PIN(12 , 0  ) at t=          1ms. Call  10000 times every          1 ms,\n",
       " TGL_PIN(12 , 0  ) at t=          1ms. Call  10000 times every          1 ms,\n",
       " TGL_PIN(12 , 0  ) at t=          1ms. Call  10000 times every          1 ms,\n",
       " TGL_PIN(12 , 0  ) at t=          1ms. Call  10000 times every          1 ms,\n",
       " TGL_PIN(12 , 0  ) at t=          1ms. Call  10000 times every          1 ms,\n",
       " TGL_PIN(12 , 0  ) at t=          1ms. Call  10000 times every          1 ms,\n",
       " TGL_PIN(12 , 0  ) at t=          1ms. Call  10000 times every          1 ms,\n",
       " TGL_PIN(12 , 0  ) at t=          1ms. Call  10000 times every          1 ms,\n",
       " TGL_PIN(12 , 0  ) at t=          1ms. Call  10000 times every          1 ms,\n",
       " TGL_PIN(12 , 0  ) at t=          1ms. Call  10000 times every          1 ms,\n",
       " TGL_PIN(12 , 0  ) at t=          1ms. Call  10000 times every          1 ms,\n",
       " TGL_PIN(12 , 0  ) at t=          1ms. Call  10000 times every          1 ms,\n",
       " TGL_PIN(12 , 0  ) at t=          1ms. Call  10000 times every          1 ms,\n",
       " TGL_PIN(12 , 0  ) at t=          1ms. Call  10000 times every          1 ms,\n",
       " TGL_PIN(12 , 0  ) at t=          1ms. Call  10000 times every          1 ms,\n",
       " TGL_PIN(12 , 0  ) at t=          1ms. Call  10000 times every          1 ms,\n",
       " TGL_PIN(12 , 0  ) at t=          1ms. Call  10000 times every          1 ms,\n",
       " TGL_PIN(12 , 0  ) at t=          1ms. Call  10000 times every          1 ms,\n",
       " TGL_PIN(12 , 0  ) at t=          1ms. Call  10000 times every          1 ms,\n",
       " TGL_PIN(12 , 0  ) at t=          1ms. Call  10000 times every          1 ms,\n",
       " TGL_PIN(12 , 0  ) at t=          1ms. Call  10000 times every          1 ms,\n",
       " TGL_PIN(12 , 0  ) at t=          1ms. Call  10000 times every          1 ms,\n",
       " TGL_PIN(12 , 0  ) at t=          2ms. Call  10000 times every          1 ms,\n",
       " TGL_PIN(12 , 0  ) at t=          2ms. Call  10000 times every          1 ms,\n",
       " TGL_PIN(12 , 0  ) at t=          2ms. Call  10000 times every          1 ms,\n",
       " TGL_PIN(12 , 0  ) at t=          2ms. Call  10000 times every          1 ms,\n",
       " TGL_PIN(12 , 0  ) at t=          2ms. Call  10000 times every          1 ms,\n",
       " TGL_PIN(12 , 0  ) at t=          2ms. Call  10000 times every          1 ms,\n",
       " TGL_PIN(12 , 0  ) at t=          2ms. Call  10000 times every          1 ms,\n",
       " TGL_PIN(12 , 0  ) at t=          2ms. Call  10000 times every          1 ms,\n",
       " TGL_PIN(12 , 0  ) at t=          2ms. Call  10000 times every          1 ms,\n",
       " TGL_PIN(12 , 0  ) at t=          2ms. Call  10000 times every          1 ms,\n",
       " TGL_PIN(12 , 0  ) at t=          2ms. Call  10000 times every          1 ms,\n",
       " TGL_PIN(12 , 0  ) at t=          2ms. Call  10000 times every          1 ms,\n",
       " TGL_PIN(12 , 0  ) at t=          2ms. Call  10000 times every          1 ms,\n",
       " TGL_PIN(12 , 0  ) at t=          2ms. Call  10000 times every          1 ms,\n",
       " TGL_PIN(12 , 0  ) at t=          2ms. Call  10000 times every          1 ms,\n",
       " TGL_PIN(12 , 0  ) at t=          2ms. Call  10000 times every          1 ms,\n",
       " TGL_PIN(12 , 0  ) at t=          2ms. Call  10000 times every          1 ms,\n",
       " TGL_PIN(12 , 0  ) at t=          2ms. Call  10000 times every          1 ms,\n",
       " TGL_PIN(12 , 0  ) at t=          2ms. Call  10000 times every          1 ms,\n",
       " TGL_PIN(12 , 0  ) at t=          2ms. Call  10000 times every          1 ms,\n",
       " TGL_PIN(12 , 0  ) at t=          2ms. Call  10000 times every          1 ms,\n",
       " TGL_PIN(12 , 0  ) at t=          2ms. Call  10000 times every          1 ms,\n",
       " TGL_PIN(12 , 0  ) at t=          2ms. Call  10000 times every          1 ms,\n",
       " TGL_PIN(12 , 0  ) at t=          2ms. Call  10000 times every          1 ms,\n",
       " TGL_PIN(12 , 0  ) at t=          2ms. Call  10000 times every          1 ms,\n",
       " TGL_PIN(12 , 0  ) at t=          2ms. Call  10000 times every          1 ms,\n",
       " TGL_PIN(12 , 0  ) at t=          2ms. Call  10000 times every          1 ms,\n",
       " TGL_PIN(12 , 0  ) at t=          2ms. Call  10000 times every          1 ms,\n",
       " TGL_PIN(12 , 0  ) at t=          2ms. Call  10000 times every          1 ms,\n",
       " TGL_PIN(12 , 0  ) at t=          2ms. Call  10000 times every          1 ms,\n",
       " TGL_PIN(12 , 0  ) at t=          2ms. Call  10000 times every          1 ms,\n",
       " TGL_PIN(12 , 0  ) at t=          2ms. Call  10000 times every          1 ms,\n",
       " TGL_PIN(12 , 0  ) at t=          2ms. Call  10000 times every          1 ms,\n",
       " TGL_PIN(12 , 0  ) at t=          2ms. Call  10000 times every          1 ms,\n",
       " TGL_PIN(12 , 0  ) at t=          2ms. Call  10000 times every          1 ms,\n",
       " TGL_PIN(12 , 0  ) at t=          2ms. Call  10000 times every          1 ms,\n",
       " TGL_PIN(12 , 0  ) at t=          2ms. Call  10000 times every          1 ms,\n",
       " TGL_PIN(12 , 0  ) at t=          2ms. Call  10000 times every          1 ms,\n",
       " TGL_PIN(12 , 0  ) at t=          2ms. Call  10000 times every          1 ms,\n",
       " TGL_PIN(12 , 0  ) at t=          2ms. Call  10000 times every          1 ms,\n",
       " TGL_PIN(12 , 0  ) at t=          3ms. Call  10000 times every          1 ms,\n",
       " TGL_PIN(12 , 0  ) at t=          3ms. Call  10000 times every          1 ms,\n",
       " TGL_PIN(12 , 0  ) at t=          3ms. Call  10000 times every          1 ms,\n",
       " TGL_PIN(12 , 0  ) at t=          3ms. Call  10000 times every          1 ms,\n",
       " TGL_PIN(12 , 0  ) at t=          3ms. Call  10000 times every          1 ms,\n",
       " TGL_PIN(12 , 0  ) at t=          3ms. Call  10000 times every          1 ms,\n",
       " TGL_PIN(12 , 0  ) at t=          3ms. Call  10000 times every          1 ms,\n",
       " TGL_PIN(12 , 0  ) at t=          3ms. Call  10000 times every          1 ms,\n",
       " TGL_PIN(12 , 0  ) at t=          3ms. Call  10000 times every          1 ms,\n",
       " TGL_PIN(12 , 0  ) at t=          3ms. Call  10000 times every          1 ms,\n",
       " TGL_PIN(12 , 0  ) at t=          3ms. Call  10000 times every          1 ms,\n",
       " TGL_PIN(12 , 0  ) at t=          3ms. Call  10000 times every          1 ms,\n",
       " TGL_PIN(12 , 0  ) at t=          3ms. Call  10000 times every          1 ms,\n",
       " TGL_PIN(12 , 0  ) at t=          3ms. Call  10000 times every          1 ms,\n",
       " TGL_PIN(12 , 0  ) at t=          3ms. Call  10000 times every          1 ms,\n",
       " TGL_PIN(12 , 0  ) at t=          3ms. Call  10000 times every          1 ms,\n",
       " TGL_PIN(12 , 0  ) at t=          3ms. Call  10000 times every          1 ms,\n",
       " TGL_PIN(12 , 0  ) at t=          3ms. Call  10000 times every          1 ms,\n",
       " TGL_PIN(12 , 0  ) at t=          3ms. Call  10000 times every          1 ms,\n",
       " TGL_PIN(12 , 0  ) at t=          3ms. Call  10000 times every          1 ms,\n",
       " TGL_PIN(12 , 0  ) at t=          3ms. Call  10000 times every          1 ms,\n",
       " TGL_PIN(12 , 0  ) at t=          3ms. Call  10000 times every          1 ms,\n",
       " TGL_PIN(12 , 0  ) at t=          3ms. Call  10000 times every          1 ms,\n",
       " TGL_PIN(12 , 0  ) at t=          3ms. Call  10000 times every          1 ms,\n",
       " TGL_PIN(12 , 0  ) at t=          3ms. Call  10000 times every          1 ms,\n",
       " TGL_PIN(12 , 0  ) at t=          3ms. Call  10000 times every          1 ms,\n",
       " TGL_PIN(12 , 0  ) at t=          3ms. Call  10000 times every          1 ms,\n",
       " TGL_PIN(12 , 0  ) at t=          3ms. Call  10000 times every          1 ms,\n",
       " TGL_PIN(12 , 0  ) at t=          3ms. Call  10000 times every          1 ms,\n",
       " TGL_PIN(12 , 0  ) at t=          3ms. Call  10000 times every          1 ms,\n",
       " TGL_PIN(12 , 0  ) at t=          3ms. Call  10000 times every          1 ms,\n",
       " TGL_PIN(12 , 0  ) at t=          3ms. Call  10000 times every          1 ms,\n",
       " TGL_PIN(12 , 0  ) at t=          3ms. Call  10000 times every          1 ms,\n",
       " TGL_PIN(12 , 0  ) at t=          3ms. Call  10000 times every          1 ms,\n",
       " TGL_PIN(12 , 0  ) at t=          3ms. Call  10000 times every          1 ms,\n",
       " TGL_PIN(12 , 0  ) at t=          3ms. Call  10000 times every          1 ms,\n",
       " TGL_PIN(12 , 0  ) at t=          3ms. Call  10000 times every          1 ms,\n",
       " TGL_PIN(12 , 0  ) at t=          3ms. Call  10000 times every          1 ms,\n",
       " TGL_PIN(12 , 0  ) at t=          3ms. Call  10000 times every          1 ms,\n",
       " TGL_PIN(12 , 0  ) at t=          3ms. Call  10000 times every          1 ms,\n",
       " TGL_PIN(12 , 0  ) at t=          4ms. Call  10000 times every          1 ms,\n",
       " TGL_PIN(12 , 0  ) at t=          4ms. Call  10000 times every          1 ms,\n",
       " TGL_PIN(12 , 0  ) at t=          4ms. Call  10000 times every          1 ms,\n",
       " TGL_PIN(12 , 0  ) at t=          4ms. Call  10000 times every          1 ms,\n",
       " TGL_PIN(12 , 0  ) at t=          4ms. Call  10000 times every          1 ms,\n",
       " TGL_PIN(12 , 0  ) at t=          4ms. Call  10000 times every          1 ms,\n",
       " TGL_PIN(12 , 0  ) at t=          4ms. Call  10000 times every          1 ms,\n",
       " TGL_PIN(12 , 0  ) at t=          4ms. Call  10000 times every          1 ms,\n",
       " TGL_PIN(12 , 0  ) at t=          4ms. Call  10000 times every          1 ms,\n",
       " TGL_PIN(12 , 0  ) at t=          4ms. Call  10000 times every          1 ms,\n",
       " TGL_PIN(12 , 0  ) at t=          4ms. Call  10000 times every          1 ms,\n",
       " TGL_PIN(12 , 0  ) at t=          4ms. Call  10000 times every          1 ms,\n",
       " TGL_PIN(12 , 0  ) at t=          4ms. Call  10000 times every          1 ms,\n",
       " TGL_PIN(12 , 0  ) at t=          4ms. Call  10000 times every          1 ms,\n",
       " TGL_PIN(12 , 0  ) at t=          4ms. Call  10000 times every          1 ms,\n",
       " TGL_PIN(12 , 0  ) at t=          4ms. Call  10000 times every          1 ms,\n",
       " TGL_PIN(12 , 0  ) at t=          4ms. Call  10000 times every          1 ms,\n",
       " TGL_PIN(12 , 0  ) at t=          4ms. Call  10000 times every          1 ms,\n",
       " TGL_PIN(12 , 0  ) at t=          4ms. Call  10000 times every          1 ms,\n",
       " TGL_PIN(12 , 0  ) at t=          4ms. Call  10000 times every          1 ms,\n",
       " TGL_PIN(12 , 0  ) at t=          4ms. Call  10000 times every          1 ms,\n",
       " TGL_PIN(12 , 0  ) at t=          4ms. Call  10000 times every          1 ms,\n",
       " TGL_PIN(12 , 0  ) at t=          4ms. Call  10000 times every          1 ms,\n",
       " TGL_PIN(12 , 0  ) at t=          4ms. Call  10000 times every          1 ms,\n",
       " TGL_PIN(12 , 0  ) at t=          4ms. Call  10000 times every          1 ms,\n",
       " TGL_PIN(12 , 0  ) at t=          4ms. Call  10000 times every          1 ms,\n",
       " TGL_PIN(12 , 0  ) at t=          4ms. Call  10000 times every          1 ms,\n",
       " TGL_PIN(12 , 0  ) at t=          4ms. Call  10000 times every          1 ms,\n",
       " TGL_PIN(12 , 0  ) at t=          4ms. Call  10000 times every          1 ms,\n",
       " TGL_PIN(12 , 0  ) at t=          4ms. Call  10000 times every          1 ms,\n",
       " TGL_PIN(12 , 0  ) at t=          4ms. Call  10000 times every          1 ms,\n",
       " TGL_PIN(12 , 0  ) at t=          4ms. Call  10000 times every          1 ms,\n",
       " TGL_PIN(12 , 0  ) at t=          4ms. Call  10000 times every          1 ms,\n",
       " TGL_PIN(12 , 0  ) at t=          4ms. Call  10000 times every          1 ms,\n",
       " TGL_PIN(12 , 0  ) at t=          4ms. Call  10000 times every          1 ms,\n",
       " TGL_PIN(12 , 0  ) at t=          4ms. Call  10000 times every          1 ms,\n",
       " TGL_PIN(12 , 0  ) at t=          4ms. Call  10000 times every          1 ms,\n",
       " TGL_PIN(12 , 0  ) at t=          4ms. Call  10000 times every          1 ms,\n",
       " TGL_PIN(12 , 0  ) at t=          4ms. Call  10000 times every          1 ms,\n",
       " TGL_PIN(12 , 0  ) at t=          4ms. Call  10000 times every          1 ms,\n",
       " TGL_PIN(12 , 0  ) at t=          5ms. Call  10000 times every          1 ms,\n",
       " TGL_PIN(12 , 0  ) at t=          5ms. Call  10000 times every          1 ms,\n",
       " TGL_PIN(12 , 0  ) at t=          5ms. Call  10000 times every          1 ms,\n",
       " TGL_PIN(12 , 0  ) at t=          5ms. Call  10000 times every          1 ms,\n",
       " TGL_PIN(12 , 0  ) at t=          5ms. Call  10000 times every          1 ms,\n",
       " TGL_PIN(12 , 0  ) at t=          5ms. Call  10000 times every          1 ms,\n",
       " TGL_PIN(12 , 0  ) at t=          5ms. Call  10000 times every          1 ms,\n",
       " TGL_PIN(12 , 0  ) at t=          5ms. Call  10000 times every          1 ms,\n",
       " TGL_PIN(12 , 0  ) at t=          5ms. Call  10000 times every          1 ms,\n",
       " TGL_PIN(12 , 0  ) at t=          5ms. Call  10000 times every          1 ms,\n",
       " TGL_PIN(12 , 0  ) at t=          5ms. Call  10000 times every          1 ms,\n",
       " TGL_PIN(12 , 0  ) at t=          5ms. Call  10000 times every          1 ms,\n",
       " TGL_PIN(12 , 0  ) at t=          5ms. Call  10000 times every          1 ms,\n",
       " TGL_PIN(12 , 0  ) at t=          5ms. Call  10000 times every          1 ms,\n",
       " TGL_PIN(12 , 0  ) at t=          5ms. Call  10000 times every          1 ms,\n",
       " TGL_PIN(12 , 0  ) at t=          5ms. Call  10000 times every          1 ms,\n",
       " TGL_PIN(12 , 0  ) at t=          5ms. Call  10000 times every          1 ms,\n",
       " TGL_PIN(12 , 0  ) at t=          5ms. Call  10000 times every          1 ms,\n",
       " TGL_PIN(12 , 0  ) at t=          5ms. Call  10000 times every          1 ms,\n",
       " TGL_PIN(12 , 0  ) at t=          5ms. Call  10000 times every          1 ms,\n",
       " TGL_PIN(12 , 0  ) at t=          5ms. Call  10000 times every          1 ms,\n",
       " TGL_PIN(12 , 0  ) at t=          5ms. Call  10000 times every          1 ms,\n",
       " TGL_PIN(12 , 0  ) at t=          5ms. Call  10000 times every          1 ms,\n",
       " TGL_PIN(12 , 0  ) at t=          5ms. Call  10000 times every          1 ms,\n",
       " TGL_PIN(12 , 0  ) at t=          5ms. Call  10000 times every          1 ms,\n",
       " TGL_PIN(12 , 0  ) at t=          5ms. Call  10000 times every          1 ms,\n",
       " TGL_PIN(12 , 0  ) at t=          5ms. Call  10000 times every          1 ms,\n",
       " TGL_PIN(12 , 0  ) at t=          5ms. Call  10000 times every          1 ms,\n",
       " TGL_PIN(12 , 0  ) at t=          5ms. Call  10000 times every          1 ms,\n",
       " TGL_PIN(12 , 0  ) at t=          5ms. Call  10000 times every          1 ms,\n",
       " TGL_PIN(12 , 0  ) at t=          5ms. Call  10000 times every          1 ms,\n",
       " TGL_PIN(12 , 0  ) at t=          5ms. Call  10000 times every          1 ms,\n",
       " TGL_PIN(12 , 0  ) at t=          5ms. Call  10000 times every          1 ms,\n",
       " TGL_PIN(12 , 0  ) at t=          5ms. Call  10000 times every          1 ms,\n",
       " TGL_PIN(12 , 0  ) at t=          5ms. Call  10000 times every          1 ms,\n",
       " TGL_PIN(12 , 0  ) at t=          5ms. Call  10000 times every          1 ms,\n",
       " TGL_PIN(12 , 0  ) at t=          5ms. Call  10000 times every          1 ms,\n",
       " TGL_PIN(12 , 0  ) at t=          5ms. Call  10000 times every          1 ms,\n",
       " TGL_PIN(12 , 0  ) at t=          5ms. Call  10000 times every          1 ms,\n",
       " TGL_PIN(12 , 0  ) at t=          5ms. Call  10000 times every          1 ms,\n",
       " TGL_PIN(12 , 0  ) at t=          6ms. Call  10000 times every          1 ms,\n",
       " TGL_PIN(12 , 0  ) at t=          6ms. Call  10000 times every          1 ms,\n",
       " TGL_PIN(12 , 0  ) at t=          6ms. Call  10000 times every          1 ms,\n",
       " TGL_PIN(12 , 0  ) at t=          6ms. Call  10000 times every          1 ms,\n",
       " TGL_PIN(12 , 0  ) at t=          6ms. Call  10000 times every          1 ms,\n",
       " TGL_PIN(12 , 0  ) at t=          6ms. Call  10000 times every          1 ms,\n",
       " TGL_PIN(12 , 0  ) at t=          6ms. Call  10000 times every          1 ms,\n",
       " TGL_PIN(12 , 0  ) at t=          6ms. Call  10000 times every          1 ms,\n",
       " TGL_PIN(12 , 0  ) at t=          6ms. Call  10000 times every          1 ms,\n",
       " TGL_PIN(12 , 0  ) at t=          6ms. Call  10000 times every          1 ms,\n",
       " TGL_PIN(12 , 0  ) at t=          6ms. Call  10000 times every          1 ms,\n",
       " TGL_PIN(12 , 0  ) at t=          6ms. Call  10000 times every          1 ms,\n",
       " TGL_PIN(12 , 0  ) at t=          6ms. Call  10000 times every          1 ms,\n",
       " TGL_PIN(12 , 0  ) at t=          6ms. Call  10000 times every          1 ms,\n",
       " TGL_PIN(12 , 0  ) at t=          6ms. Call  10000 times every          1 ms,\n",
       " TGL_PIN(12 , 0  ) at t=          6ms. Call  10000 times every          1 ms,\n",
       " TGL_PIN(12 , 0  ) at t=          6ms. Call  10000 times every          1 ms,\n",
       " TGL_PIN(12 , 0  ) at t=          6ms. Call  10000 times every          1 ms,\n",
       " TGL_PIN(12 , 0  ) at t=          6ms. Call  10000 times every          1 ms,\n",
       " TGL_PIN(12 , 0  ) at t=          6ms. Call  10000 times every          1 ms,\n",
       " TGL_PIN(12 , 0  ) at t=          6ms. Call  10000 times every          1 ms,\n",
       " TGL_PIN(12 , 0  ) at t=          6ms. Call  10000 times every          1 ms,\n",
       " TGL_PIN(12 , 0  ) at t=          6ms. Call  10000 times every          1 ms,\n",
       " TGL_PIN(12 , 0  ) at t=          6ms. Call  10000 times every          1 ms,\n",
       " TGL_PIN(12 , 0  ) at t=          6ms. Call  10000 times every          1 ms,\n",
       " TGL_PIN(12 , 0  ) at t=          6ms. Call  10000 times every          1 ms,\n",
       " TGL_PIN(12 , 0  ) at t=          6ms. Call  10000 times every          1 ms,\n",
       " TGL_PIN(12 , 0  ) at t=          6ms. Call  10000 times every          1 ms,\n",
       " TGL_PIN(12 , 0  ) at t=          6ms. Call  10000 times every          1 ms,\n",
       " TGL_PIN(12 , 0  ) at t=          6ms. Call  10000 times every          1 ms,\n",
       " TGL_PIN(12 , 0  ) at t=          6ms. Call  10000 times every          1 ms,\n",
       " TGL_PIN(12 , 0  ) at t=          6ms. Call  10000 times every          1 ms,\n",
       " TGL_PIN(12 , 0  ) at t=          6ms. Call  10000 times every          1 ms,\n",
       " TGL_PIN(12 , 0  ) at t=          6ms. Call  10000 times every          1 ms,\n",
       " TGL_PIN(12 , 0  ) at t=          6ms. Call  10000 times every          1 ms,\n",
       " TGL_PIN(12 , 0  ) at t=          6ms. Call  10000 times every          1 ms,\n",
       " TGL_PIN(12 , 0  ) at t=          6ms. Call  10000 times every          1 ms,\n",
       " TGL_PIN(12 , 0  ) at t=          6ms. Call  10000 times every          1 ms,\n",
       " TGL_PIN(12 , 0  ) at t=          6ms. Call  10000 times every          1 ms,\n",
       " TGL_PIN(12 , 0  ) at t=          6ms. Call  10000 times every          1 ms,\n",
       " TGL_PIN(12 , 0  ) at t=          7ms. Call  10000 times every          1 ms,\n",
       " TGL_PIN(12 , 0  ) at t=          7ms. Call  10000 times every          1 ms,\n",
       " TGL_PIN(12 , 0  ) at t=          7ms. Call  10000 times every          1 ms,\n",
       " TGL_PIN(12 , 0  ) at t=          7ms. Call  10000 times every          1 ms,\n",
       " TGL_PIN(12 , 0  ) at t=          7ms. Call  10000 times every          1 ms,\n",
       " TGL_PIN(12 , 0  ) at t=          7ms. Call  10000 times every          1 ms,\n",
       " TGL_PIN(12 , 0  ) at t=          7ms. Call  10000 times every          1 ms,\n",
       " TGL_PIN(12 , 0  ) at t=          7ms. Call  10000 times every          1 ms,\n",
       " TGL_PIN(12 , 0  ) at t=          7ms. Call  10000 times every          1 ms,\n",
       " TGL_PIN(12 , 0  ) at t=          7ms. Call  10000 times every          1 ms,\n",
       " TGL_PIN(12 , 0  ) at t=          7ms. Call  10000 times every          1 ms,\n",
       " TGL_PIN(12 , 0  ) at t=          7ms. Call  10000 times every          1 ms,\n",
       " TGL_PIN(12 , 0  ) at t=          7ms. Call  10000 times every          1 ms,\n",
       " TGL_PIN(12 , 0  ) at t=          7ms. Call  10000 times every          1 ms,\n",
       " TGL_PIN(12 , 0  ) at t=          7ms. Call  10000 times every          1 ms,\n",
       " TGL_PIN(12 , 0  ) at t=          7ms. Call  10000 times every          1 ms,\n",
       " TGL_PIN(12 , 0  ) at t=          7ms. Call  10000 times every          1 ms,\n",
       " TGL_PIN(12 , 0  ) at t=          7ms. Call  10000 times every          1 ms,\n",
       " TGL_PIN(12 , 0  ) at t=          7ms. Call  10000 times every          1 ms,\n",
       " TGL_PIN(12 , 0  ) at t=          7ms. Call  10000 times every          1 ms,\n",
       " TGL_PIN(12 , 0  ) at t=          7ms. Call  10000 times every          1 ms,\n",
       " TGL_PIN(12 , 0  ) at t=          7ms. Call  10000 times every          1 ms,\n",
       " TGL_PIN(12 , 0  ) at t=          7ms. Call  10000 times every          1 ms,\n",
       " TGL_PIN(12 , 0  ) at t=          7ms. Call  10000 times every          1 ms,\n",
       " TGL_PIN(12 , 0  ) at t=          7ms. Call  10000 times every          1 ms,\n",
       " TGL_PIN(12 , 0  ) at t=          7ms. Call  10000 times every          1 ms,\n",
       " TGL_PIN(12 , 0  ) at t=          7ms. Call  10000 times every          1 ms,\n",
       " TGL_PIN(12 , 0  ) at t=          7ms. Call  10000 times every          1 ms,\n",
       " TGL_PIN(12 , 0  ) at t=          7ms. Call  10000 times every          1 ms,\n",
       " TGL_PIN(12 , 0  ) at t=          7ms. Call  10000 times every          1 ms,\n",
       " TGL_PIN(12 , 0  ) at t=          7ms. Call  10000 times every          1 ms,\n",
       " TGL_PIN(12 , 0  ) at t=          7ms. Call  10000 times every          1 ms,\n",
       " TGL_PIN(12 , 0  ) at t=          7ms. Call  10000 times every          1 ms,\n",
       " TGL_PIN(12 , 0  ) at t=          7ms. Call  10000 times every          1 ms,\n",
       " TGL_PIN(12 , 0  ) at t=          7ms. Call  10000 times every          1 ms,\n",
       " TGL_PIN(12 , 0  ) at t=          7ms. Call  10000 times every          1 ms,\n",
       " TGL_PIN(12 , 0  ) at t=          7ms. Call  10000 times every          1 ms,\n",
       " TGL_PIN(12 , 0  ) at t=          7ms. Call  10000 times every          1 ms,\n",
       " TGL_PIN(12 , 0  ) at t=          7ms. Call  10000 times every          1 ms,\n",
       " TGL_PIN(12 , 0  ) at t=          7ms. Call  10000 times every          1 ms,\n",
       " TGL_PIN(12 , 0  ) at t=          8ms. Call  10000 times every          1 ms,\n",
       " TGL_PIN(12 , 0  ) at t=          8ms. Call  10000 times every          1 ms,\n",
       " TGL_PIN(12 , 0  ) at t=          8ms. Call  10000 times every          1 ms,\n",
       " TGL_PIN(12 , 0  ) at t=          8ms. Call  10000 times every          1 ms,\n",
       " TGL_PIN(12 , 0  ) at t=          8ms. Call  10000 times every          1 ms,\n",
       " TGL_PIN(12 , 0  ) at t=          8ms. Call  10000 times every          1 ms,\n",
       " TGL_PIN(12 , 0  ) at t=          8ms. Call  10000 times every          1 ms,\n",
       " TGL_PIN(12 , 0  ) at t=          8ms. Call  10000 times every          1 ms,\n",
       " TGL_PIN(12 , 0  ) at t=          8ms. Call  10000 times every          1 ms,\n",
       " TGL_PIN(12 , 0  ) at t=          8ms. Call  10000 times every          1 ms,\n",
       " TGL_PIN(12 , 0  ) at t=          8ms. Call  10000 times every          1 ms,\n",
       " TGL_PIN(12 , 0  ) at t=          8ms. Call  10000 times every          1 ms,\n",
       " TGL_PIN(12 , 0  ) at t=          8ms. Call  10000 times every          1 ms,\n",
       " TGL_PIN(12 , 0  ) at t=          8ms. Call  10000 times every          1 ms,\n",
       " TGL_PIN(12 , 0  ) at t=          8ms. Call  10000 times every          1 ms,\n",
       " TGL_PIN(12 , 0  ) at t=          8ms. Call  10000 times every          1 ms,\n",
       " TGL_PIN(12 , 0  ) at t=          8ms. Call  10000 times every          1 ms,\n",
       " TGL_PIN(12 , 0  ) at t=          8ms. Call  10000 times every          1 ms,\n",
       " TGL_PIN(12 , 0  ) at t=          8ms. Call  10000 times every          1 ms,\n",
       " TGL_PIN(12 , 0  ) at t=          8ms. Call  10000 times every          1 ms,\n",
       " TGL_PIN(12 , 0  ) at t=          8ms. Call  10000 times every          1 ms,\n",
       " TGL_PIN(12 , 0  ) at t=          8ms. Call  10000 times every          1 ms,\n",
       " TGL_PIN(12 , 0  ) at t=          8ms. Call  10000 times every          1 ms,\n",
       " TGL_PIN(12 , 0  ) at t=          8ms. Call  10000 times every          1 ms,\n",
       " TGL_PIN(12 , 0  ) at t=          8ms. Call  10000 times every          1 ms,\n",
       " TGL_PIN(12 , 0  ) at t=          8ms. Call  10000 times every          1 ms,\n",
       " TGL_PIN(12 , 0  ) at t=          8ms. Call  10000 times every          1 ms,\n",
       " TGL_PIN(12 , 0  ) at t=          8ms. Call  10000 times every          1 ms,\n",
       " TGL_PIN(12 , 0  ) at t=          8ms. Call  10000 times every          1 ms,\n",
       " TGL_PIN(12 , 0  ) at t=          8ms. Call  10000 times every          1 ms,\n",
       " TGL_PIN(12 , 0  ) at t=          8ms. Call  10000 times every          1 ms,\n",
       " TGL_PIN(12 , 0  ) at t=          8ms. Call  10000 times every          1 ms,\n",
       " TGL_PIN(12 , 0  ) at t=          8ms. Call  10000 times every          1 ms,\n",
       " TGL_PIN(12 , 0  ) at t=          8ms. Call  10000 times every          1 ms,\n",
       " TGL_PIN(12 , 0  ) at t=          8ms. Call  10000 times every          1 ms,\n",
       " TGL_PIN(12 , 0  ) at t=          8ms. Call  10000 times every          1 ms,\n",
       " TGL_PIN(12 , 0  ) at t=          8ms. Call  10000 times every          1 ms,\n",
       " TGL_PIN(12 , 0  ) at t=          8ms. Call  10000 times every          1 ms,\n",
       " TGL_PIN(12 , 0  ) at t=          8ms. Call  10000 times every          1 ms,\n",
       " TGL_PIN(12 , 0  ) at t=          8ms. Call  10000 times every          1 ms,\n",
       " TGL_PIN(12 , 0  ) at t=          9ms. Call  10000 times every          1 ms,\n",
       " TGL_PIN(12 , 0  ) at t=          9ms. Call  10000 times every          1 ms,\n",
       " TGL_PIN(12 , 0  ) at t=          9ms. Call  10000 times every          1 ms,\n",
       " TGL_PIN(12 , 0  ) at t=          9ms. Call  10000 times every          1 ms,\n",
       " TGL_PIN(12 , 0  ) at t=          9ms. Call  10000 times every          1 ms,\n",
       " TGL_PIN(12 , 0  ) at t=          9ms. Call  10000 times every          1 ms,\n",
       " TGL_PIN(12 , 0  ) at t=          9ms. Call  10000 times every          1 ms,\n",
       " TGL_PIN(12 , 0  ) at t=          9ms. Call  10000 times every          1 ms,\n",
       " TGL_PIN(12 , 0  ) at t=          9ms. Call  10000 times every          1 ms,\n",
       " TGL_PIN(12 , 0  ) at t=          9ms. Call  10000 times every          1 ms,\n",
       " TGL_PIN(12 , 0  ) at t=          9ms. Call  10000 times every          1 ms,\n",
       " TGL_PIN(12 , 0  ) at t=          9ms. Call  10000 times every          1 ms,\n",
       " TGL_PIN(12 , 0  ) at t=          9ms. Call  10000 times every          1 ms,\n",
       " TGL_PIN(12 , 0  ) at t=          9ms. Call  10000 times every          1 ms,\n",
       " TGL_PIN(12 , 0  ) at t=          9ms. Call  10000 times every          1 ms,\n",
       " TGL_PIN(12 , 0  ) at t=          9ms. Call  10000 times every          1 ms,\n",
       " TGL_PIN(12 , 0  ) at t=          9ms. Call  10000 times every          1 ms,\n",
       " TGL_PIN(12 , 0  ) at t=          9ms. Call  10000 times every          1 ms,\n",
       " TGL_PIN(12 , 0  ) at t=          9ms. Call  10000 times every          1 ms,\n",
       " TGL_PIN(12 , 0  ) at t=          9ms. Call  10000 times every          1 ms,\n",
       " TGL_PIN(12 , 0  ) at t=          9ms. Call  10000 times every          1 ms,\n",
       " TGL_PIN(12 , 0  ) at t=          9ms. Call  10000 times every          1 ms,\n",
       " TGL_PIN(12 , 0  ) at t=          9ms. Call  10000 times every          1 ms,\n",
       " TGL_PIN(12 , 0  ) at t=          9ms. Call  10000 times every          1 ms,\n",
       " TGL_PIN(12 , 0  ) at t=          9ms. Call  10000 times every          1 ms,\n",
       " TGL_PIN(12 , 0  ) at t=          9ms. Call  10000 times every          1 ms,\n",
       " TGL_PIN(12 , 0  ) at t=          9ms. Call  10000 times every          1 ms,\n",
       " TGL_PIN(12 , 0  ) at t=          9ms. Call  10000 times every          1 ms,\n",
       " TGL_PIN(12 , 0  ) at t=          9ms. Call  10000 times every          1 ms,\n",
       " TGL_PIN(12 , 0  ) at t=          9ms. Call  10000 times every          1 ms,\n",
       " TGL_PIN(12 , 0  ) at t=          9ms. Call  10000 times every          1 ms,\n",
       " TGL_PIN(12 , 0  ) at t=          9ms. Call  10000 times every          1 ms,\n",
       " TGL_PIN(12 , 0  ) at t=          9ms. Call  10000 times every          1 ms,\n",
       " TGL_PIN(12 , 0  ) at t=          9ms. Call  10000 times every          1 ms,\n",
       " TGL_PIN(12 , 0  ) at t=          9ms. Call  10000 times every          1 ms,\n",
       " TGL_PIN(12 , 0  ) at t=          9ms. Call  10000 times every          1 ms,\n",
       " TGL_PIN(12 , 0  ) at t=          9ms. Call  10000 times every          1 ms,\n",
       " TGL_PIN(12 , 0  ) at t=          9ms. Call  10000 times every          1 ms,\n",
       " TGL_PIN(12 , 0  ) at t=          9ms. Call  10000 times every          1 ms,\n",
       " TGL_PIN(12 , 0  ) at t=          9ms. Call  10000 times every          1 ms,\n",
       " TGL_PIN(12 , 0  ) at t=         10ms. Call  10000 times every          1 ms,\n",
       " TGL_PIN(12 , 0  ) at t=         10ms. Call  10000 times every          1 ms,\n",
       " TGL_PIN(12 , 0  ) at t=         10ms. Call  10000 times every          1 ms,\n",
       " TGL_PIN(12 , 0  ) at t=         10ms. Call  10000 times every          1 ms,\n",
       " TGL_PIN(12 , 0  ) at t=         10ms. Call  10000 times every          1 ms,\n",
       " TGL_PIN(12 , 0  ) at t=         10ms. Call  10000 times every          1 ms,\n",
       " TGL_PIN(12 , 0  ) at t=         10ms. Call  10000 times every          1 ms,\n",
       " TGL_PIN(12 , 0  ) at t=         10ms. Call  10000 times every          1 ms,\n",
       " TGL_PIN(12 , 0  ) at t=         10ms. Call  10000 times every          1 ms,\n",
       " TGL_PIN(12 , 0  ) at t=         10ms. Call  10000 times every          1 ms,\n",
       " TGL_PIN(12 , 0  ) at t=         10ms. Call  10000 times every          1 ms,\n",
       " TGL_PIN(12 , 0  ) at t=         10ms. Call  10000 times every          1 ms,\n",
       " TGL_PIN(12 , 0  ) at t=         10ms. Call  10000 times every          1 ms,\n",
       " TGL_PIN(12 , 0  ) at t=         10ms. Call  10000 times every          1 ms,\n",
       " TGL_PIN(12 , 0  ) at t=         10ms. Call  10000 times every          1 ms,\n",
       " TGL_PIN(12 , 0  ) at t=         10ms. Call  10000 times every          1 ms,\n",
       " TGL_PIN(12 , 0  ) at t=         10ms. Call  10000 times every          1 ms,\n",
       " TGL_PIN(12 , 0  ) at t=         10ms. Call  10000 times every          1 ms,\n",
       " TGL_PIN(12 , 0  ) at t=         10ms. Call  10000 times every          1 ms]"
      ]
     },
     "execution_count": 18,
     "metadata": {},
     "output_type": "execute_result"
    }
   ],
   "source": [
    "sd.stop()\n",
    "for i in range(400):\n",
    "    sd.tgl_pin(\"D17\", ts=25*i, N=10000, interval=1000)\n",
    "sd.get_events()"
   ]
  },
  {
   "cell_type": "markdown",
   "id": "5e2f0e38-350f-4828-bbe5-cb6a53450bca",
   "metadata": {},
   "source": [
    "Now we have too many events in the table. Once we start the microcontroller, it will slowly get overwhelmed and will start missing events. When this happens, it will automatically reset. It will send an error message to the host."
   ]
  },
  {
   "cell_type": "code",
   "execution_count": 19,
   "id": "3162dcf5-1765-4b29-9f9b-dd645fd75143",
   "metadata": {},
   "outputs": [
    {
     "name": "stdout",
     "output_type": "stream",
     "text": [
      "b'ERR - watchdog timeout, restarting system!\\n\\x00Sync device is ready. Firmware version: 2.1.0\\n'\n"
     ]
    }
   ],
   "source": [
    "sd.go()\n",
    "time.sleep(1)\n",
    "print(sd.com.readall())"
   ]
  },
  {
   "cell_type": "markdown",
   "id": "d9f5509c-d1ee-4e1e-8bd3-8e4de660da6b",
   "metadata": {},
   "source": [
    "## Enabling/disabling pins\n",
    "Each pin can be enabled or disabled using the \"ENP\" and \"DSP\" commands. A disabled pin still preserves internal state, but it lacks the electrical output."
   ]
  },
  {
   "cell_type": "code",
   "execution_count": 20,
   "id": "d3987b44-949a-472f-97fb-31f7d5f793fc",
   "metadata": {},
   "outputs": [],
   "source": [
    "with sd as dev:\n",
    "    dev.tgl_pin(\"D17\", N=5000, interval=1000)\n",
    "    dev.tgl_pin(\"D17\", N=5000, interval=1001)\n",
    "    dev.tgl_pin(\"A0\", N=5000, interval=1000)\n",
    "    dev.tgl_pin(\"A0\", N=5000, interval=1001)\n",
    "time.sleep(0.5)\n",
    "sd.disable_pin(\"D17\")\n",
    "time.sleep(0.5)\n",
    "sd.enable_pin(\"D17\")"
   ]
  },
  {
   "cell_type": "markdown",
   "id": "f717b503-719b-41ab-84dd-a618ebb0e0cd",
   "metadata": {},
   "source": [
    "## Interlock\n",
    "Some pins (see *globals.h*) are assigned to laser shutters. These are additionally controlled by an interlock. The interlock periodically sends a short heart beat pulse on pin D13 and expects to receive this pulse on pin D12. If the pulse does not arrive, the laser shutter pins are immediately set to TTL low. The pins return to their normal function as soon as interlock detects pulse on D12. This mechanism does not affect the enable/disable status of the pins or their internal level, it's a separate layer of logic.\n",
    "\n",
    "Sending hearbeat pulse through the interlock circuit makes the interlock highly reliable, as it detects not only the open circuit, but also short circuit to ground or TTL high.\n",
    "\n",
    "If you don't need interlock, you can disable it until the next microcontroller reset."
   ]
  },
  {
   "cell_type": "code",
   "execution_count": 21,
   "id": "bb3ac671-b426-44ab-9940-79fdea06695b",
   "metadata": {},
   "outputs": [
    {
     "data": {
      "text/plain": [
       "True"
      ]
     },
     "execution_count": 21,
     "metadata": {},
     "output_type": "execute_result"
    }
   ],
   "source": [
    "sd.interlock_enabled"
   ]
  },
  {
   "cell_type": "code",
   "execution_count": 22,
   "id": "b7403af5-646b-4b74-86f6-38a62478088a",
   "metadata": {},
   "outputs": [],
   "source": [
    "# A0 is disabled if interlock circuit is disrupted\n",
    "sd.interlock_enabled = True\n",
    "sd.tgl_pin(\"A0\", N=10000, interval=1000)\n",
    "sd.tgl_pin(\"A0\", N=10000, interval=1001)\n",
    "sd.tgl_pin(\"A12\", N=10000, interval=1000)\n",
    "sd.tgl_pin(\"A12\", N=10000, interval=1001)"
   ]
  },
  {
   "cell_type": "code",
   "execution_count": 23,
   "id": "cfc5f6c8-cdbd-4e4a-8513-93e7da478608",
   "metadata": {},
   "outputs": [],
   "source": [
    "# Interlock is disabled, A0 is unaffected\n",
    "sd.interlock_enabled = False\n",
    "sd.tgl_pin(\"A0\", N=10000, interval=1000)\n",
    "sd.tgl_pin(\"A0\", N=10000, interval=1001)\n",
    "sd.tgl_pin(\"A12\", N=10000, interval=1000)\n",
    "sd.tgl_pin(\"A12\", N=10000, interval=1001)"
   ]
  }
 ],
 "metadata": {
  "kernelspec": {
   "display_name": "Python 3 (ipykernel)",
   "language": "python",
   "name": "python3"
  },
  "language_info": {
   "codemirror_mode": {
    "name": "ipython",
    "version": 3
   },
   "file_extension": ".py",
   "mimetype": "text/x-python",
   "name": "python",
   "nbconvert_exporter": "python",
   "pygments_lexer": "ipython3",
   "version": "3.12.4"
  }
 },
 "nbformat": 4,
 "nbformat_minor": 5
}
