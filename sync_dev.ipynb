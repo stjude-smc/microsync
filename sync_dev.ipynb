{
 "cells": [
  {
   "cell_type": "markdown",
   "id": "a50c5506-3f10-4134-be39-2ab2250a35ba",
   "metadata": {},
   "source": [
    "# Microscope sync device based on ARM microcontroller"
   ]
  },
  {
   "cell_type": "code",
   "execution_count": 1,
   "id": "99fea1bd-765e-4deb-9947-61278f4908cf",
   "metadata": {},
   "outputs": [],
   "source": [
    "from com import *"
   ]
  },
  {
   "cell_type": "code",
   "execution_count": 44,
   "id": "290afb3c-cc76-4554-8312-038be059b354",
   "metadata": {},
   "outputs": [
    {
     "data": {
      "text/plain": [
       "b''"
      ]
     },
     "execution_count": 44,
     "metadata": {},
     "output_type": "execute_result"
    }
   ],
   "source": [
    "c.readall()"
   ]
  },
  {
   "cell_type": "code",
   "execution_count": 46,
   "id": "5213c1c8-5f9b-4ac2-955f-aed15578e001",
   "metadata": {},
   "outputs": [
    {
     "name": "stdout",
     "output_type": "stream",
     "text": [
      "Sync device is ready. Firmware version: 2.1.0\n",
      "SYNC DEVICE v2.1.0\n",
      "System timer prescaler=32 (1ct=380ns)\n",
      "Watchdog interval: 0 us \n",
      "\n"
     ]
    }
   ],
   "source": [
    "print(w(\"ver\"))"
   ]
  },
  {
   "cell_type": "code",
   "execution_count": 62,
   "id": "d123bf0c-587a-4697-b3d7-533abb87ac29",
   "metadata": {},
   "outputs": [],
   "source": [
    "c.write(\n",
    "run_ALEX(\n",
    "    exposure_time=50000,\n",
    "    lasers=[\"A0\", \"A1\", \"A2\", \"A3\"],\n",
    "    N_bursts=0,\n",
    "    cam_readout=12000,\n",
    "    shutter_delay=1000,\n",
    "    burst_duration=300000\n",
    ") )\n",
    "go()"
   ]
  },
  {
   "cell_type": "code",
   "execution_count": 23,
   "id": "e985b895-285f-4c4b-90ff-47770c85ec35",
   "metadata": {},
   "outputs": [],
   "source": [
    "go()"
   ]
  },
  {
   "cell_type": "code",
   "execution_count": 79,
   "id": "71f60bfd-941e-4af0-8ed9-bb714fc12f16",
   "metadata": {},
   "outputs": [
    {
     "data": {
      "text/plain": [
       "''"
      ]
     },
     "execution_count": 79,
     "metadata": {},
     "output_type": "execute_result"
    }
   ],
   "source": [
    "w(\"ENP\", \"A2\", ts=1)"
   ]
  },
  {
   "cell_type": "code",
   "execution_count": 76,
   "id": "34b49729-1af7-4343-a4ab-ffba00e9ccee",
   "metadata": {},
   "outputs": [
    {
     "data": {
      "text/plain": [
       "''"
      ]
     },
     "execution_count": 76,
     "metadata": {},
     "output_type": "execute_result"
    }
   ],
   "source": [
    "w(\"DSP\", \"A0\")"
   ]
  },
  {
   "cell_type": "code",
   "execution_count": 54,
   "id": "2cc85c2b-6284-4650-9dfa-5e243dcaef54",
   "metadata": {},
   "outputs": [],
   "source": [
    "w(\"PPL\", \"D44\", 50000, interval=200000)\n",
    "go()"
   ]
  },
  {
   "cell_type": "code",
   "execution_count": 285,
   "id": "e512dfb3-6df0-494f-89ba-921442c9a168",
   "metadata": {},
   "outputs": [
    {
     "data": {
      "text/plain": [
       "72"
      ]
     },
     "execution_count": 285,
     "metadata": {},
     "output_type": "execute_result"
    }
   ],
   "source": [
    "w(\"stp\")\n",
    "c.write(\n",
    "w_buf(\"PPL\", \"A0\", arg2=30, N=0, interval=1000)\n",
    " + w_buf(\"BST\", 2, arg2=40, ts=10, N=0, interval=1000)\n",
    " + w_buf(\"go!\")\n",
    ")"
   ]
  },
  {
   "cell_type": "code",
   "execution_count": 14,
   "id": "a566f86f-03ba-472a-99e6-eb9ebaf211a5",
   "metadata": {},
   "outputs": [
    {
     "data": {
      "text/plain": [
       "[]"
      ]
     },
     "execution_count": 14,
     "metadata": {},
     "output_type": "execute_result"
    }
   ],
   "source": [
    "get_events()"
   ]
  },
  {
   "cell_type": "code",
   "execution_count": 8,
   "id": "38aac255-63f7-4483-89a1-15fef490a9c5",
   "metadata": {},
   "outputs": [
    {
     "data": {
      "text/plain": [
       "'2.0.0\\n'"
      ]
     },
     "execution_count": 8,
     "metadata": {},
     "output_type": "execute_result"
    }
   ],
   "source": [
    "w(\"GET\")"
   ]
  },
  {
   "cell_type": "code",
   "execution_count": 39,
   "id": "0bf68416-3b55-4745-b482-f9efea49c45c",
   "metadata": {},
   "outputs": [],
   "source": [
    "s()"
   ]
  },
  {
   "cell_type": "code",
   "execution_count": 275,
   "id": "194f8193-1e50-4ef8-9c7d-c9c8d770029b",
   "metadata": {},
   "outputs": [
    {
     "data": {
      "text/plain": [
       "''"
      ]
     },
     "execution_count": 275,
     "metadata": {},
     "output_type": "execute_result"
    }
   ],
   "source": [
    "w(\"ENP\", \"A0\", ts=2000)"
   ]
  },
  {
   "cell_type": "code",
   "execution_count": 61,
   "id": "56407ee3-0258-48aa-aa49-e00f58471e57",
   "metadata": {},
   "outputs": [
    {
     "data": {
      "text/plain": [
       "[SET_PIN(16 , 1  ) at t=      27600ms. Call      0 times every        300 ms,\n",
       " SET_PIN(57 , 1  ) at t=      27601ms. Call      0 times every        300 ms,\n",
       " SET_PIN(16 , 0  ) at t=      27650ms. Call      0 times every        300 ms,\n",
       " SET_PIN(57 , 0  ) at t=      27651ms. Call      0 times every        300 ms,\n",
       " SET_PIN(24 , 1  ) at t=      27663ms. Call      0 times every        300 ms,\n",
       " SET_PIN(57 , 1  ) at t=      27664ms. Call      0 times every        300 ms,\n",
       " SET_PIN(24 , 0  ) at t=      27713ms. Call      0 times every        300 ms,\n",
       " SET_PIN(57 , 0  ) at t=      27714ms. Call      0 times every        300 ms,\n",
       " SET_PIN(23 , 1  ) at t=      27726ms. Call      0 times every        300 ms,\n",
       " SET_PIN(57 , 1  ) at t=      27727ms. Call      0 times every        300 ms,\n",
       " SET_PIN(23 , 0  ) at t=      27776ms. Call      0 times every        300 ms,\n",
       " SET_PIN(57 , 0  ) at t=      27777ms. Call      0 times every        300 ms,\n",
       " SET_PIN(22 , 1  ) at t=      27789ms. Call      0 times every        300 ms,\n",
       " SET_PIN(57 , 1  ) at t=      27790ms. Call      0 times every        300 ms,\n",
       " SET_PIN(22 , 0  ) at t=      27839ms. Call      0 times every        300 ms,\n",
       " SET_PIN(57 , 0  ) at t=      27840ms. Call      0 times every        300 ms]"
      ]
     },
     "execution_count": 61,
     "metadata": {},
     "output_type": "execute_result"
    }
   ],
   "source": [
    "get_events()"
   ]
  },
  {
   "cell_type": "code",
   "execution_count": 277,
   "id": "d895b6df-0fb2-4309-b030-f5da219dc6c8",
   "metadata": {},
   "outputs": [
    {
     "data": {
      "text/plain": [
       "''"
      ]
     },
     "execution_count": 277,
     "metadata": {},
     "output_type": "execute_result"
    }
   ],
   "source": [
    "w(\"ENP\", \"A1\", N=20, ts=200000, interval=400000)\n",
    "w(\"DSP\", \"A1\", N=20, interval=400000)\n",
    "w(\"ENP\", \"A2\", N=10, ts=700000, interval=1500000)\n",
    "w(\"DSP\", \"A2\", N=10, interval=1500000)\n",
    "w(\"ENP\", \"D12\", N=10, ts=1700000, interval=1500000)\n",
    "w(\"DSP\", \"D12\", N=10, ts=1200000, interval=1500000)"
   ]
  },
  {
   "cell_type": "code",
   "execution_count": 185,
   "id": "7a5711a1-04f3-4a1e-8b18-17f82df59047",
   "metadata": {},
   "outputs": [
    {
     "data": {
      "text/plain": [
       "''"
      ]
     },
     "execution_count": 185,
     "metadata": {},
     "output_type": "execute_result"
    }
   ],
   "source": [
    "w(\"stp\")"
   ]
  },
  {
   "cell_type": "code",
   "execution_count": 83,
   "id": "cfd84d25-8ae0-4c3a-8c12-2f11f4895ada",
   "metadata": {},
   "outputs": [
    {
     "data": {
      "text/plain": [
       "48"
      ]
     },
     "execution_count": 83,
     "metadata": {},
     "output_type": "execute_result"
    }
   ],
   "source": [
    "#go()\n",
    "a = w_buf(\"PIN\", arg1=\"A0\", arg2=0, ts=0)\n",
    "b = w_buf(\"PIN\", arg1=\"A1\", arg2=0, ts=1)\n",
    "c.write(a+b)"
   ]
  },
  {
   "cell_type": "code",
   "execution_count": 73,
   "id": "197f5ef5-44b3-409e-a80c-958001d2d828",
   "metadata": {},
   "outputs": [
    {
     "data": {
      "text/plain": [
       "[SET_PIN(24 , 1  ) at t=          0us. Call      1 times every          0 us]"
      ]
     },
     "execution_count": 73,
     "metadata": {},
     "output_type": "execute_result"
    }
   ],
   "source": [
    "get_events(\"us\")"
   ]
  },
  {
   "cell_type": "code",
   "execution_count": 74,
   "id": "5ca5874f-19c1-47b9-b44a-50387582e346",
   "metadata": {},
   "outputs": [],
   "source": [
    "go()"
   ]
  },
  {
   "cell_type": "code",
   "execution_count": 82,
   "id": "955853f7-f297-477f-a338-b83694192434",
   "metadata": {},
   "outputs": [
    {
     "data": {
      "text/plain": [
       "[SET_PIN(16 , 1  ) at t=    9504000us. Call      0 times every       2000 us,\n",
       " SET_PIN(104, 1  ) at t=    9504000us. Call      0 times every       2000 us,\n",
       " SET_PIN(16 , 0  ) at t=    9504099us. Call      0 times every       2000 us,\n",
       " SET_PIN(104, 0  ) at t=    9504100us. Call      0 times every       2000 us,\n",
       " SET_PIN(24 , 1  ) at t=    9504149us. Call      0 times every       2000 us,\n",
       " SET_PIN(104, 1  ) at t=    9504150us. Call      0 times every       2000 us,\n",
       " BST__ON(210, 100) at t=    9504229us. Call      0 times every       2000 us,\n",
       " SET_PIN(24 , 0  ) at t=    9504249us. Call      0 times every       2000 us,\n",
       " SET_PIN(104, 0  ) at t=    9504250us. Call      0 times every       2000 us,\n",
       " SET_PIN(23 , 1  ) at t=    9504299us. Call      0 times every       2000 us,\n",
       " SET_PIN(104, 1  ) at t=    9504300us. Call      0 times every       2000 us,\n",
       " BST_OFF(210, 100) at t=    9504329us. Call      0 times every       2000 us,\n",
       " SET_PIN(23 , 0  ) at t=    9504399us. Call      0 times every       2000 us,\n",
       " SET_PIN(104, 0  ) at t=    9504400us. Call      0 times every       2000 us,\n",
       " SET_PIN(22 , 1  ) at t=    9504449us. Call      0 times every       2000 us,\n",
       " SET_PIN(104, 1  ) at t=    9504450us. Call      0 times every       2000 us,\n",
       " SET_PIN(22 , 0  ) at t=    9504549us. Call      0 times every       2000 us,\n",
       " SET_PIN(104, 0  ) at t=    9504550us. Call      0 times every       2000 us,\n",
       " SET_PIN(6  , 1  ) at t=    9504600us. Call      0 times every       2000 us,\n",
       " SET_PIN(104, 1  ) at t=    9504600us. Call      0 times every       2000 us,\n",
       " SET_PIN(6  , 0  ) at t=    9504699us. Call      0 times every       2000 us,\n",
       " SET_PIN(104, 0  ) at t=    9504700us. Call      0 times every       2000 us,\n",
       " SET_PIN(4  , 1  ) at t=    9504749us. Call      0 times every       2000 us,\n",
       " SET_PIN(104, 1  ) at t=    9504750us. Call      0 times every       2000 us,\n",
       " SET_PIN(4  , 0  ) at t=    9504849us. Call      0 times every       2000 us,\n",
       " SET_PIN(104, 0  ) at t=    9504850us. Call      0 times every       2000 us,\n",
       " SET_PIN(3  , 1  ) at t=    9504899us. Call      0 times every       2000 us,\n",
       " SET_PIN(104, 1  ) at t=    9504900us. Call      0 times every       2000 us,\n",
       " SET_PIN(3  , 0  ) at t=    9504999us. Call      0 times every       2000 us,\n",
       " SET_PIN(104, 0  ) at t=    9505000us. Call      0 times every       2000 us,\n",
       " SET_PIN(2  , 1  ) at t=    9505049us. Call      0 times every       2000 us,\n",
       " SET_PIN(104, 1  ) at t=    9505050us. Call      0 times every       2000 us,\n",
       " SET_PIN(2  , 0  ) at t=    9505149us. Call      0 times every       2000 us,\n",
       " SET_PIN(104, 0  ) at t=    9505150us. Call      0 times every       2000 us]"
      ]
     },
     "execution_count": 82,
     "metadata": {},
     "output_type": "execute_result"
    }
   ],
   "source": [
    "get_events(\"us\")"
   ]
  },
  {
   "cell_type": "code",
   "execution_count": 288,
   "id": "5afc353e-e713-48c6-aef7-5ffd0001125f",
   "metadata": {},
   "outputs": [],
   "source": [
    "from enum import Enum"
   ]
  },
  {
   "cell_type": "code",
   "execution_count": 290,
   "id": "ef40e23b-5e81-4526-8976-3d94b0a9ee0d",
   "metadata": {},
   "outputs": [],
   "source": [
    "from enum import Enum\n",
    "\n",
    "class SysProps(Enum):\n",
    "\tprop_VERSION = 0\n",
    "\tprop_SYS_TIMER_STATUS = 1\n",
    "\tprop_SYS_TIMER_VALUE = 2\n",
    "\tprop_SYS_TIMER_OVF_COUNT = 3\n",
    "\tprop_SYS_TIME_S = 4\n",
    "\tprop_SYS_TIMER_PRESCALER = 5\n",
    "\tprop_DFLT_PULSE_DURATION_US = 6\n",
    "\tprop_WATCHDOG_TIMEOUT = 7\n",
    "\tprop_N_EVENT = 8\n"
   ]
  },
  {
   "cell_type": "code",
   "execution_count": null,
   "id": "c5b0249a-a8a6-47d0-9a8a-4d7d5744e5af",
   "metadata": {},
   "outputs": [],
   "source": [
    "4636672"
   ]
  },
  {
   "cell_type": "code",
   "execution_count": 109,
   "id": "9b7fa1e6-64eb-418b-b359-55b9b2334963",
   "metadata": {},
   "outputs": [
    {
     "name": "stdout",
     "output_type": "stream",
     "text": [
      "Interlock TC0 CV=792339\n",
      "Interlock TC0 RA=900000\n",
      "Interlock TC0 RB=900000\n",
      "Interlock TC0 RC=1000000\n",
      "\n",
      "Interlock TC1 CV=7798\n",
      "Interlock TC1 RA=10000\n",
      "Interlock TC1 RB=40000\n",
      "Interlock TC1 RC=100000\n",
      "Interlock TC6 CV=7900\n",
      "Interlock TC6 RA=10000\n",
      "Interlock TC6 RB=40000\n",
      "Interlock TC6 RC=100000\n",
      "\n"
     ]
    }
   ],
   "source": [
    "print(w(\"???\"))"
   ]
  },
  {
   "cell_type": "code",
   "execution_count": 79,
   "id": "70271ba3-33a0-4c94-bfc1-e5a4a02d596d",
   "metadata": {},
   "outputs": [],
   "source": [
    "TC_CMR=1179041795"
   ]
  },
  {
   "cell_type": "code",
   "execution_count": 102,
   "id": "ae5d39d1-8675-4bbf-a8e4-ccfffc8ee0af",
   "metadata": {},
   "outputs": [
    {
     "data": {
      "text/plain": [
       "'0x1'"
      ]
     },
     "execution_count": 102,
     "metadata": {},
     "output_type": "execute_result"
    }
   ],
   "source": [
    "N = 30\n",
    "hex((TC_CMR & (0b11 << N)) >> N)"
   ]
  },
  {
   "cell_type": "code",
   "execution_count": 111,
   "id": "7780fb2e-e5ba-4a0b-9d3b-790345d0823b",
   "metadata": {},
   "outputs": [
    {
     "data": {
      "text/plain": [
       "1.2334543177230322"
      ]
     },
     "execution_count": 111,
     "metadata": {},
     "output_type": "execute_result"
    }
   ],
   "source": [
    "4*1e-6/(3.14159*(0.0254*0.04)**2)"
   ]
  },
  {
   "cell_type": "code",
   "execution_count": null,
   "id": "b89c2f09-abf4-4723-a306-2aeee47a15bd",
   "metadata": {},
   "outputs": [],
   "source": []
  }
 ],
 "metadata": {
  "kernelspec": {
   "display_name": "Python 3 (ipykernel)",
   "language": "python",
   "name": "python3"
  },
  "language_info": {
   "codemirror_mode": {
    "name": "ipython",
    "version": 3
   },
   "file_extension": ".py",
   "mimetype": "text/x-python",
   "name": "python",
   "nbconvert_exporter": "python",
   "pygments_lexer": "ipython3",
   "version": "3.12.4"
  }
 },
 "nbformat": 4,
 "nbformat_minor": 5
}
