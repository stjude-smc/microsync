{
 "cells": [
  {
   "cell_type": "markdown",
   "id": "a50c5506-3f10-4134-be39-2ab2250a35ba",
   "metadata": {},
   "source": [
    "# Microscope sync device based on ARM microcontroller"
   ]
  },
  {
   "cell_type": "code",
   "execution_count": 1,
   "id": "99fea1bd-765e-4deb-9947-61278f4908cf",
   "metadata": {},
   "outputs": [],
   "source": [
    "from com import *"
   ]
  },
  {
   "cell_type": "code",
   "execution_count": 7,
   "id": "e708f43f-740c-4fe2-a390-57154fb3d7b6",
   "metadata": {},
   "outputs": [],
   "source": [
    "a()"
   ]
  },
  {
   "cell_type": "code",
   "execution_count": 5,
   "id": "840a5ee9-b07b-4291-9bbd-1287f9e8949e",
   "metadata": {},
   "outputs": [
    {
     "data": {
      "text/plain": [
       "{'525789': 'TGL', '525829': 'PIN'}"
      ]
     },
     "execution_count": 5,
     "metadata": {},
     "output_type": "execute_result"
    }
   ],
   "source": [
    "get_function_addr()"
   ]
  },
  {
   "cell_type": "code",
   "execution_count": 23,
   "id": "9434cf6a-55ba-4f7d-a2f7-f1a52198e627",
   "metadata": {},
   "outputs": [
    {
     "data": {
      "text/plain": [
       "[PIN(A1 , 0) at t=   16073307us. Call    0 times every        999 us,\n",
       " PIN(D12, 0) at t=   16073327us. Call    0 times every        999 us,\n",
       " PIN(A2 , 1) at t=   16073342us. Call    0 times every        999 us,\n",
       " PIN(D12, 1) at t=   16073362us. Call    0 times every        999 us,\n",
       " PIN(A2 , 0) at t=   16073542us. Call    0 times every        999 us,\n",
       " PIN(D12, 0) at t=   16073561us. Call    0 times every        999 us,\n",
       " PIN(A0 , 1) at t=   16073874us. Call    0 times every        999 us,\n",
       " PIN(D12, 1) at t=   16073894us. Call    0 times every        999 us,\n",
       " PIN(A0 , 0) at t=   16074073us. Call    0 times every        999 us,\n",
       " PIN(D12, 0) at t=   16074093us. Call    0 times every        999 us,\n",
       " PIN(A1 , 1) at t=   16074107us. Call    0 times every        999 us,\n",
       " PIN(D12, 1) at t=   16074127us. Call    0 times every        999 us]"
      ]
     },
     "execution_count": 23,
     "metadata": {},
     "output_type": "execute_result"
    }
   ],
   "source": [
    "get_events(\"us\")"
   ]
  },
  {
   "cell_type": "code",
   "execution_count": 21,
   "id": "d123bf0c-587a-4697-b3d7-533abb87ac29",
   "metadata": {},
   "outputs": [
    {
     "data": {
      "text/plain": [
       "216"
      ]
     },
     "execution_count": 21,
     "metadata": {},
     "output_type": "execute_result"
    }
   ],
   "source": [
    "c.write(run_ALEX(\n",
    "    exposure_time=200,\n",
    "    lasers=[\"A0\", \"A1\", \"A2\"],\n",
    "    N_bursts=0,\n",
    "    cam_readout=14,\n",
    "    shutter_delay=20,\n",
    "    burst_duration=1000,\n",
    "    fluidics=0,\n",
    ") + w_buf(\"go!\"))"
   ]
  },
  {
   "cell_type": "code",
   "execution_count": 25,
   "id": "fd0a3b3d-02b9-4214-b5b0-994a2d60bdab",
   "metadata": {},
   "outputs": [],
   "source": [
    "rst()"
   ]
  },
  {
   "cell_type": "code",
   "execution_count": null,
   "id": "5c333229-481c-46be-9475-b53b5ff89c76",
   "metadata": {},
   "outputs": [],
   "source": []
  }
 ],
 "metadata": {
  "kernelspec": {
   "display_name": "Python 3 (ipykernel)",
   "language": "python",
   "name": "python3"
  },
  "language_info": {
   "codemirror_mode": {
    "name": "ipython",
    "version": 3
   },
   "file_extension": ".py",
   "mimetype": "text/x-python",
   "name": "python",
   "nbconvert_exporter": "python",
   "pygments_lexer": "ipython3",
   "version": "3.12.4"
  }
 },
 "nbformat": 4,
 "nbformat_minor": 5
}
