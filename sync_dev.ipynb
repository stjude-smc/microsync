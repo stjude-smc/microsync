{
 "cells": [
  {
   "cell_type": "markdown",
   "id": "a50c5506-3f10-4134-be39-2ab2250a35ba",
   "metadata": {},
   "source": [
    "# Microscope sync device based on ARM microcontroller"
   ]
  },
  {
   "cell_type": "code",
   "execution_count": 1,
   "id": "99fea1bd-765e-4deb-9947-61278f4908cf",
   "metadata": {},
   "outputs": [],
   "source": [
    "from com import *"
   ]
  },
  {
   "cell_type": "code",
   "execution_count": 40,
   "id": "e708f43f-740c-4fe2-a390-57154fb3d7b6",
   "metadata": {},
   "outputs": [
    {
     "data": {
      "text/plain": [
       "'SYNC DEVICE READY\\n'"
      ]
     },
     "execution_count": 40,
     "metadata": {},
     "output_type": "execute_result"
    }
   ],
   "source": [
    "w(\"rst\")"
   ]
  },
  {
   "cell_type": "code",
   "execution_count": 91,
   "id": "840a5ee9-b07b-4291-9bbd-1287f9e8949e",
   "metadata": {},
   "outputs": [
    {
     "data": {
      "text/plain": [
       "''"
      ]
     },
     "execution_count": 91,
     "metadata": {},
     "output_type": "execute_result"
    }
   ],
   "source": [
    "w(\"stp\")"
   ]
  },
  {
   "cell_type": "code",
   "execution_count": 33,
   "id": "9434cf6a-55ba-4f7d-a2f7-f1a52198e627",
   "metadata": {},
   "outputs": [
    {
     "name": "stdout",
     "output_type": "stream",
     "text": [
      "-- SYSTEM STATUS --\n",
      "Event queue size: 8\n",
      "Current system time:  4332570712 cts\n",
      "System timer is RUNNING\n",
      "\n",
      "System time in seconds: 1650.503\n"
     ]
    }
   ],
   "source": [
    "s()"
   ]
  },
  {
   "cell_type": "code",
   "execution_count": 5,
   "id": "ad0d32d8-1bed-46ad-9b27-952e41c0b934",
   "metadata": {},
   "outputs": [
    {
     "data": {
      "text/plain": [
       "[]"
      ]
     },
     "execution_count": 5,
     "metadata": {},
     "output_type": "execute_result"
    }
   ],
   "source": [
    "get_events()"
   ]
  },
  {
   "cell_type": "code",
   "execution_count": 6,
   "id": "22e38a9f-ee34-4bf1-a369-8651ddf1c4de",
   "metadata": {},
   "outputs": [],
   "source": [
    "go()"
   ]
  },
  {
   "cell_type": "code",
   "execution_count": 25,
   "id": "d123bf0c-587a-4697-b3d7-533abb87ac29",
   "metadata": {},
   "outputs": [
    {
     "data": {
      "text/plain": [
       "312"
      ]
     },
     "execution_count": 25,
     "metadata": {},
     "output_type": "execute_result"
    }
   ],
   "source": [
    "c.write(run_ALEX(\n",
    "    exposure_time=100,\n",
    "    lasers=[\"A0\", \"A1\", \"A2\", \"A3\", \"A4\"],\n",
    "    N_bursts=0,\n",
    "    cam_readout=49,\n",
    "    shutter_delay=1,\n",
    "    burst_duration=10000,\n",
    "    fluidics=1500000,\n",
    ") + w_buf(\"BST\", 1, 100, ts=77, interval=10000))"
   ]
  },
  {
   "cell_type": "code",
   "execution_count": 26,
   "id": "e9c7a42b-3829-416a-a397-ce0d083448da",
   "metadata": {},
   "outputs": [],
   "source": [
    "go()"
   ]
  },
  {
   "cell_type": "code",
   "execution_count": 28,
   "id": "5c333229-481c-46be-9475-b53b5ff89c76",
   "metadata": {},
   "outputs": [
    {
     "data": {
      "text/plain": [
       "''"
      ]
     },
     "execution_count": 28,
     "metadata": {},
     "output_type": "execute_result"
    }
   ],
   "source": [
    "w(\"TGL\", \"D2\", N=0, interval=1001, ts=0)\n",
    "w(\"TGL\", \"D2\", N=0, interval=1000, ts=100)"
   ]
  },
  {
   "cell_type": "code",
   "execution_count": 5,
   "id": "2b24bb63-a1ae-4c6d-a638-f59fa8123fe0",
   "metadata": {},
   "outputs": [
    {
     "data": {
      "text/plain": [
       "[SET_PIN(16 , 1) at t=          0cts. Call    0 times every      26250 cts,\n",
       " BST__ON(42 , 100) at t=          0cts. Call    0 times every      26250 cts,\n",
       " SET_PIN(104, 1) at t=          2cts. Call    0 times every      26250 cts,\n",
       " SET_PIN(16 , 0) at t=        196cts. Call    0 times every      26250 cts,\n",
       " SET_PIN(104, 0) at t=        198cts. Call    0 times every      26250 cts,\n",
       " BST_OFF(42 , 100) at t=        262cts. Call    0 times every      26250 cts,\n",
       " SET_PIN(24 , 1) at t=        330cts. Call    0 times every      26250 cts,\n",
       " SET_PIN(104, 1) at t=        333cts. Call    0 times every      26250 cts,\n",
       " SET_PIN(24 , 0) at t=        526cts. Call    0 times every      26250 cts,\n",
       " SET_PIN(104, 0) at t=        529cts. Call    0 times every      26250 cts,\n",
       " SET_PIN(23 , 1) at t=        661cts. Call    0 times every      26250 cts,\n",
       " SET_PIN(104, 1) at t=        664cts. Call    0 times every      26250 cts,\n",
       " SET_PIN(23 , 0) at t=        857cts. Call    0 times every      26250 cts,\n",
       " SET_PIN(104, 0) at t=        860cts. Call    0 times every      26250 cts,\n",
       " SET_PIN(22 , 1) at t=        992cts. Call    0 times every      26250 cts,\n",
       " SET_PIN(104, 1) at t=        994cts. Call    0 times every      26250 cts,\n",
       " SET_PIN(22 , 0) at t=       1188cts. Call    0 times every      26250 cts,\n",
       " SET_PIN(104, 0) at t=       1190cts. Call    0 times every      26250 cts,\n",
       " SET_PIN(57 , 536903600) at t=    3937500cts. Call    1 times every          0 cts,\n",
       " SET_PIN(57 , 0) at t=    4593750cts. Call    1 times every          0 cts]"
      ]
     },
     "execution_count": 5,
     "metadata": {},
     "output_type": "execute_result"
    }
   ],
   "source": [
    "get_events(\"cts\")"
   ]
  },
  {
   "cell_type": "code",
   "execution_count": 148,
   "id": "e00b56d7-aac9-445c-9d4a-c1d8c61566fb",
   "metadata": {},
   "outputs": [
    {
     "data": {
      "text/plain": [
       "''"
      ]
     },
     "execution_count": 148,
     "metadata": {},
     "output_type": "execute_result"
    }
   ],
   "source": [
    "w(\"STP\")\n",
    "w(\"PPL\", \"A0\", arg2=400, N=0, interval=1000, ts=0)\n",
    "w(\"PPL\", \"A1\", arg2=400, N=0, interval=1000, ts=1)\n",
    "w(\"PPL\", \"A2\", arg2=400, N=0, interval=1000, ts=1)\n",
    "w(\"PPL\", \"A3\", arg2=400, N=0, interval=1000, ts=1)\n",
    "w(\"PPL\", \"A4\", arg2=400, N=0, interval=1000, ts=1)\n",
    "w(\"PPL\", \"A5\", arg2=400, N=0, interval=1000, ts=1)\n",
    "w(\"PPL\", \"A6\", arg2=400, N=0, interval=1000, ts=1)\n",
    "w(\"PPL\", \"A7\", arg2=400, N=0, interval=1000, ts=1)\n",
    "w(\"go!\")"
   ]
  },
  {
   "cell_type": "code",
   "execution_count": 99,
   "id": "8fa32622-1fb6-422d-9cae-386d4fa4a086",
   "metadata": {},
   "outputs": [
    {
     "data": {
      "text/plain": [
       "[SET_PIN(16 , 1) at t=    1120875cts. Call    0 times every       2625 cts,\n",
       " SET_PIN(24 , 1) at t=    1121137cts. Call    0 times every       2625 cts,\n",
       " SET_PIN(16 , 0) at t=    1121925cts. Call    0 times every       2625 cts,\n",
       " SET_PIN(24 , 0) at t=    1122187cts. Call    0 times every       2625 cts]"
      ]
     },
     "execution_count": 99,
     "metadata": {},
     "output_type": "execute_result"
    }
   ],
   "source": [
    "get_events(\"cts\")"
   ]
  },
  {
   "cell_type": "code",
   "execution_count": 100,
   "id": "e5ae52d1-ef00-43c0-9403-d41f5a040fac",
   "metadata": {},
   "outputs": [
    {
     "data": {
      "text/plain": [
       "32"
      ]
     },
     "execution_count": 100,
     "metadata": {},
     "output_type": "execute_result"
    }
   ],
   "source": [
    "get_prescaler()"
   ]
  },
  {
   "cell_type": "code",
   "execution_count": 220,
   "id": "997fe9cb-cc75-4ff1-a9f2-ce6aba5622e3",
   "metadata": {},
   "outputs": [
    {
     "name": "stdout",
     "output_type": "stream",
     "text": [
      "-- SYSTEM STATUS --\n",
      "Event queue size: 20\n",
      "Current system time:  34616811 cts\n",
      "System timer is RUNNING\n",
      "\n",
      "System time in seconds: 13.187\n"
     ]
    }
   ],
   "source": [
    "s()"
   ]
  },
  {
   "cell_type": "code",
   "execution_count": null,
   "id": "5ca5874f-19c1-47b9-b44a-50387582e346",
   "metadata": {},
   "outputs": [],
   "source": []
  }
 ],
 "metadata": {
  "kernelspec": {
   "display_name": "Python 3 (ipykernel)",
   "language": "python",
   "name": "python3"
  },
  "language_info": {
   "codemirror_mode": {
    "name": "ipython",
    "version": 3
   },
   "file_extension": ".py",
   "mimetype": "text/x-python",
   "name": "python",
   "nbconvert_exporter": "python",
   "pygments_lexer": "ipython3",
   "version": "3.12.4"
  }
 },
 "nbformat": 4,
 "nbformat_minor": 5
}
