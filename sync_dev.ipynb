{
 "cells": [
  {
   "cell_type": "markdown",
   "id": "a50c5506-3f10-4134-be39-2ab2250a35ba",
   "metadata": {},
   "source": [
    "# Microscope sync device based on ARM microcontroller"
   ]
  },
  {
   "cell_type": "code",
   "execution_count": 2,
   "id": "99fea1bd-765e-4deb-9947-61278f4908cf",
   "metadata": {},
   "outputs": [],
   "source": [
    "from com import *"
   ]
  },
  {
   "cell_type": "code",
   "execution_count": 3,
   "id": "5213c1c8-5f9b-4ac2-955f-aed15578e001",
   "metadata": {},
   "outputs": [
    {
     "name": "stdout",
     "output_type": "stream",
     "text": [
      "Sync device is ready. Firmware version: 2.1.0\n",
      "16843009\n",
      "\n",
      "0\n"
     ]
    }
   ],
   "source": [
    "print(get_prop(props.rw_INTLCK_ENABLED))\n",
    "print(set_prop(props.rw_INTLCK_ENABLED, 0))  # disable interlock\n",
    "print(get_prop(props.rw_INTLCK_ENABLED))"
   ]
  },
  {
   "cell_type": "code",
   "execution_count": 24,
   "id": "ec1e6533-83e9-4853-8043-c40c8286d4d3",
   "metadata": {},
   "outputs": [
    {
     "name": "stdout",
     "output_type": "stream",
     "text": [
      "\n"
     ]
    }
   ],
   "source": [
    "print(set_prop(props.rw_INTLCK_ENABLED, 1))  # enable interlock"
   ]
  },
  {
   "cell_type": "code",
   "execution_count": 4,
   "id": "1325465c-6809-43fe-8a32-3834d73be840",
   "metadata": {},
   "outputs": [
    {
     "data": {
      "text/plain": [
       "32"
      ]
     },
     "execution_count": 4,
     "metadata": {},
     "output_type": "execute_result"
    }
   ],
   "source": [
    "get_prescaler()"
   ]
  },
  {
   "cell_type": "code",
   "execution_count": 6,
   "id": "d123bf0c-587a-4697-b3d7-533abb87ac29",
   "metadata": {},
   "outputs": [],
   "source": [
    "c.write(\n",
    "run_ALEX(\n",
    "    exposure_time=50000,\n",
    "    lasers=[\"A0\", \"A1\", \"A2\", \"A3\"],\n",
    "    N_bursts=0,\n",
    "    cam_readout=12000,\n",
    "    shutter_delay=1000,\n",
    "    burst_duration=300000\n",
    ") )\n",
    "go()"
   ]
  },
  {
   "cell_type": "code",
   "execution_count": 79,
   "id": "71f60bfd-941e-4af0-8ed9-bb714fc12f16",
   "metadata": {},
   "outputs": [
    {
     "data": {
      "text/plain": [
       "''"
      ]
     },
     "execution_count": 79,
     "metadata": {},
     "output_type": "execute_result"
    }
   ],
   "source": [
    "w(\"ENP\", \"A2\", ts=1)"
   ]
  },
  {
   "cell_type": "code",
   "execution_count": 76,
   "id": "34b49729-1af7-4343-a4ab-ffba00e9ccee",
   "metadata": {},
   "outputs": [
    {
     "data": {
      "text/plain": [
       "''"
      ]
     },
     "execution_count": 76,
     "metadata": {},
     "output_type": "execute_result"
    }
   ],
   "source": [
    "w(\"DSP\", \"A0\")"
   ]
  },
  {
   "cell_type": "code",
   "execution_count": 54,
   "id": "2cc85c2b-6284-4650-9dfa-5e243dcaef54",
   "metadata": {},
   "outputs": [],
   "source": [
    "w(\"PPL\", \"D44\", 50000, interval=200000)\n",
    "go()"
   ]
  },
  {
   "cell_type": "code",
   "execution_count": 285,
   "id": "e512dfb3-6df0-494f-89ba-921442c9a168",
   "metadata": {},
   "outputs": [
    {
     "data": {
      "text/plain": [
       "72"
      ]
     },
     "execution_count": 285,
     "metadata": {},
     "output_type": "execute_result"
    }
   ],
   "source": [
    "w(\"stp\")\n",
    "c.write(\n",
    "w_buf(\"PPL\", \"A0\", arg2=30, N=0, interval=1000)\n",
    " + w_buf(\"BST\", 2, arg2=40, ts=10, N=0, interval=1000)\n",
    " + w_buf(\"go!\")\n",
    ")"
   ]
  },
  {
   "cell_type": "code",
   "execution_count": 8,
   "id": "a566f86f-03ba-472a-99e6-eb9ebaf211a5",
   "metadata": {},
   "outputs": [
    {
     "name": "stdout",
     "output_type": "stream",
     "text": [
      "-- SYSTEM STATUS --\n",
      "Event queue size: 16\n",
      "System counter is RUNNING\n",
      "Counter value:  79527044 cts, OVF = 0\n",
      "System time: 30.296104 s\n",
      "\n"
     ]
    }
   ],
   "source": [
    "s()"
   ]
  },
  {
   "cell_type": "code",
   "execution_count": 9,
   "id": "38aac255-63f7-4483-89a1-15fef490a9c5",
   "metadata": {},
   "outputs": [
    {
     "data": {
      "text/plain": [
       "'2.1.0\\n'"
      ]
     },
     "execution_count": 9,
     "metadata": {},
     "output_type": "execute_result"
    }
   ],
   "source": [
    "w(\"GET\")"
   ]
  },
  {
   "cell_type": "code",
   "execution_count": 10,
   "id": "194f8193-1e50-4ef8-9c7d-c9c8d770029b",
   "metadata": {},
   "outputs": [
    {
     "data": {
      "text/plain": [
       "''"
      ]
     },
     "execution_count": 10,
     "metadata": {},
     "output_type": "execute_result"
    }
   ],
   "source": [
    "w(\"ENP\", \"A0\", ts=2000)"
   ]
  },
  {
   "cell_type": "code",
   "execution_count": 11,
   "id": "56407ee3-0258-48aa-aa49-e00f58471e57",
   "metadata": {},
   "outputs": [
    {
     "data": {
      "text/plain": [
       "[SET_PIN(16 , 1  ) at t=      39300ms. Call      0 times every        300 ms,\n",
       " SET_PIN(47 , 1  ) at t=      39301ms. Call      0 times every        300 ms,\n",
       " SET_PIN(16 , 0  ) at t=      39350ms. Call      0 times every        300 ms,\n",
       " SET_PIN(47 , 0  ) at t=      39351ms. Call      0 times every        300 ms,\n",
       " SET_PIN(24 , 1  ) at t=      39363ms. Call      0 times every        300 ms,\n",
       " SET_PIN(47 , 1  ) at t=      39364ms. Call      0 times every        300 ms,\n",
       " SET_PIN(24 , 0  ) at t=      39413ms. Call      0 times every        300 ms,\n",
       " SET_PIN(47 , 0  ) at t=      39414ms. Call      0 times every        300 ms,\n",
       " SET_PIN(23 , 1  ) at t=      39426ms. Call      0 times every        300 ms,\n",
       " SET_PIN(47 , 1  ) at t=      39427ms. Call      0 times every        300 ms,\n",
       " SET_PIN(23 , 0  ) at t=      39476ms. Call      0 times every        300 ms,\n",
       " SET_PIN(47 , 0  ) at t=      39477ms. Call      0 times every        300 ms,\n",
       " SET_PIN(22 , 1  ) at t=      39489ms. Call      0 times every        300 ms,\n",
       " SET_PIN(47 , 1  ) at t=      39490ms. Call      0 times every        300 ms,\n",
       " SET_PIN(22 , 0  ) at t=      39539ms. Call      0 times every        300 ms,\n",
       " SET_PIN(47 , 0  ) at t=      39540ms. Call      0 times every        300 ms]"
      ]
     },
     "execution_count": 11,
     "metadata": {},
     "output_type": "execute_result"
    }
   ],
   "source": [
    "get_events()"
   ]
  },
  {
   "cell_type": "code",
   "execution_count": 12,
   "id": "d895b6df-0fb2-4309-b030-f5da219dc6c8",
   "metadata": {},
   "outputs": [
    {
     "data": {
      "text/plain": [
       "''"
      ]
     },
     "execution_count": 12,
     "metadata": {},
     "output_type": "execute_result"
    }
   ],
   "source": [
    "w(\"ENP\", \"A1\", N=20, ts=200000, interval=400000)\n",
    "w(\"DSP\", \"A1\", N=20, interval=400000)\n",
    "w(\"ENP\", \"A2\", N=10, ts=700000, interval=1500000)\n",
    "w(\"DSP\", \"A2\", N=10, interval=1500000)\n",
    "w(\"ENP\", \"D12\", N=10, ts=1700000, interval=1500000)\n",
    "w(\"DSP\", \"D12\", N=10, ts=1200000, interval=1500000)"
   ]
  },
  {
   "cell_type": "code",
   "execution_count": 13,
   "id": "7a5711a1-04f3-4a1e-8b18-17f82df59047",
   "metadata": {},
   "outputs": [
    {
     "data": {
      "text/plain": [
       "''"
      ]
     },
     "execution_count": 13,
     "metadata": {},
     "output_type": "execute_result"
    }
   ],
   "source": [
    "w(\"stp\")"
   ]
  },
  {
   "cell_type": "code",
   "execution_count": 19,
   "id": "cfd84d25-8ae0-4c3a-8c12-2f11f4895ada",
   "metadata": {},
   "outputs": [
    {
     "data": {
      "text/plain": [
       "48"
      ]
     },
     "execution_count": 19,
     "metadata": {},
     "output_type": "execute_result"
    }
   ],
   "source": [
    "a = w_buf(\"PIN\", arg1=\"A0\", arg2=1, ts=0)\n",
    "b = w_buf(\"PIN\", arg1=\"A1\", arg2=1, ts=1)\n",
    "c.write(a+b)"
   ]
  },
  {
   "cell_type": "code",
   "execution_count": 20,
   "id": "197f5ef5-44b3-409e-a80c-958001d2d828",
   "metadata": {},
   "outputs": [
    {
     "data": {
      "text/plain": [
       "[]"
      ]
     },
     "execution_count": 20,
     "metadata": {},
     "output_type": "execute_result"
    }
   ],
   "source": [
    "get_events(\"us\")"
   ]
  },
  {
   "cell_type": "code",
   "execution_count": 21,
   "id": "5ca5874f-19c1-47b9-b44a-50387582e346",
   "metadata": {},
   "outputs": [],
   "source": [
    "go()"
   ]
  },
  {
   "cell_type": "code",
   "execution_count": 23,
   "id": "ed505358-50fb-42fe-9e45-19e050b7c524",
   "metadata": {},
   "outputs": [
    {
     "name": "stdout",
     "output_type": "stream",
     "text": [
      "-- SYSTEM STATUS --\n",
      "Event queue size: 0\n",
      "System counter is RUNNING\n",
      "Counter value:  138005032 cts, OVF = 0\n",
      "System time: 52.573437 s\n",
      "\n"
     ]
    }
   ],
   "source": [
    "s()"
   ]
  },
  {
   "cell_type": "code",
   "execution_count": null,
   "id": "5cc13565-1dee-434f-9c73-c3010e7a4c50",
   "metadata": {},
   "outputs": [],
   "source": []
  }
 ],
 "metadata": {
  "kernelspec": {
   "display_name": "Python 3 (ipykernel)",
   "language": "python",
   "name": "python3"
  },
  "language_info": {
   "codemirror_mode": {
    "name": "ipython",
    "version": 3
   },
   "file_extension": ".py",
   "mimetype": "text/x-python",
   "name": "python",
   "nbconvert_exporter": "python",
   "pygments_lexer": "ipython3",
   "version": "3.12.4"
  }
 },
 "nbformat": 4,
 "nbformat_minor": 5
}
