{
 "cells": [
  {
   "cell_type": "markdown",
   "id": "a50c5506-3f10-4134-be39-2ab2250a35ba",
   "metadata": {},
   "source": [
    "# Microscope sync device based on ARM microcontroller"
   ]
  },
  {
   "cell_type": "code",
   "execution_count": 1,
   "id": "99fea1bd-765e-4deb-9947-61278f4908cf",
   "metadata": {},
   "outputs": [],
   "source": [
    "from com import *"
   ]
  },
  {
   "cell_type": "code",
   "execution_count": 203,
   "id": "e708f43f-740c-4fe2-a390-57154fb3d7b6",
   "metadata": {},
   "outputs": [
    {
     "name": "stdout",
     "output_type": "stream",
     "text": [
      "SYNC DEVICE v0.6.0\n",
      "System timer prescaler=32 (1ct=380ns)\n",
      "Watchdog interval: 0 us \n",
      "\n"
     ]
    }
   ],
   "source": [
    "print(w(\"ver\"))"
   ]
  },
  {
   "cell_type": "code",
   "execution_count": 286,
   "id": "90463ccf-0a2c-4b5a-8cc4-3d0d547963f2",
   "metadata": {},
   "outputs": [
    {
     "data": {
      "text/plain": [
       "'SYNC DEVICE READY\\n'"
      ]
     },
     "execution_count": 286,
     "metadata": {},
     "output_type": "execute_result"
    }
   ],
   "source": [
    "w(\"rst\")"
   ]
  },
  {
   "cell_type": "code",
   "execution_count": 285,
   "id": "d123bf0c-587a-4697-b3d7-533abb87ac29",
   "metadata": {},
   "outputs": [],
   "source": [
    "c.write(run_ALEX(\n",
    "    exposure_time=100,\n",
    "    lasers=[\"A0\", \"A1\", \"A2\", \"A3\", \"A4\", \"A5\", \"A6\", \"A7\"],\n",
    "    N_bursts=0,\n",
    "    cam_readout=49,\n",
    "    shutter_delay=1,\n",
    "    burst_duration=2000,\n",
    "    fluidics=1500000,\n",
    ") + w_buf(\"BST\", 5, 100, ts=230, interval=2000))\n",
    "go()"
   ]
  },
  {
   "cell_type": "code",
   "execution_count": 283,
   "id": "d0af5560-ea0a-40e2-99c8-69419b4c0890",
   "metadata": {},
   "outputs": [
    {
     "data": {
      "text/plain": [
       "''"
      ]
     },
     "execution_count": 283,
     "metadata": {},
     "output_type": "execute_result"
    }
   ],
   "source": [
    "w(\"stp\")\n",
    "w(\"TGL\", \"D47\", N=0, interval=20)\n",
    "w(\"go!\")"
   ]
  },
  {
   "cell_type": "code",
   "execution_count": 284,
   "id": "c752c4bf-5793-4d95-b753-6e91faba0950",
   "metadata": {},
   "outputs": [
    {
     "name": "stdout",
     "output_type": "stream",
     "text": [
      "-- SYSTEM STATUS --\n",
      "Event queue size: 1\n",
      "System counter is RUNNING\n",
      "Counter value:  44904901 cts, OVF = 0\n",
      "System time: 17.106771 s\n",
      "\n"
     ]
    }
   ],
   "source": [
    "s()"
   ]
  },
  {
   "cell_type": "code",
   "execution_count": 287,
   "id": "e512dfb3-6df0-494f-89ba-921442c9a168",
   "metadata": {},
   "outputs": [
    {
     "data": {
      "text/plain": [
       "''"
      ]
     },
     "execution_count": 287,
     "metadata": {},
     "output_type": "execute_result"
    }
   ],
   "source": [
    "w(\"TGL\", \"A0\", N=100000, interval=501)\n",
    "w(\"TGL\", \"A1\", N=100000, interval=500)\n",
    "\n",
    "w(\"TGL\", \"D47\", N=100000, interval=501)\n",
    "w(\"TGL\", \"D47\", N=100000, interval=500)\n",
    "\n",
    "w(\"TGL\", \"D48\", N=100000, interval=1001)\n",
    "w(\"TGL\", \"D48\", N=100000, interval=1000)\n",
    "\n",
    "w(\"TGL\", \"D49\", N=100000, interval=2001)\n",
    "w(\"TGL\", \"D49\", N=100000, interval=2000)"
   ]
  },
  {
   "cell_type": "code",
   "execution_count": 288,
   "id": "b1c59c34-21a5-4ccf-a16a-f48a407d6ba2",
   "metadata": {},
   "outputs": [],
   "source": [
    "go()"
   ]
  },
  {
   "cell_type": "code",
   "execution_count": 246,
   "id": "a566f86f-03ba-472a-99e6-eb9ebaf211a5",
   "metadata": {},
   "outputs": [
    {
     "data": {
      "text/plain": [
       "'0x8b3c9'"
      ]
     },
     "execution_count": 246,
     "metadata": {},
     "output_type": "execute_result"
    }
   ],
   "source": [
    "hex(570313)"
   ]
  },
  {
   "cell_type": "code",
   "execution_count": 262,
   "id": "2b24bb63-a1ae-4c6d-a638-f59fa8123fe0",
   "metadata": {},
   "outputs": [
    {
     "data": {
      "text/plain": [
       "[]"
      ]
     },
     "execution_count": 262,
     "metadata": {},
     "output_type": "execute_result"
    }
   ],
   "source": [
    "get_events(\"cts\")"
   ]
  },
  {
   "cell_type": "code",
   "execution_count": 274,
   "id": "9d91e178-90dd-4bcd-b65a-63dc13396ad8",
   "metadata": {},
   "outputs": [
    {
     "data": {
      "text/plain": [
       "8"
      ]
     },
     "execution_count": 274,
     "metadata": {},
     "output_type": "execute_result"
    }
   ],
   "source": [
    "SYS_TC_CONVERSION_MULTIPLIER = 84_000_000/32\n",
    "cts2us(21, 32)"
   ]
  },
  {
   "cell_type": "code",
   "execution_count": 279,
   "id": "1fa1fa86-2edd-44ec-a410-c4764ba38a5a",
   "metadata": {},
   "outputs": [
    {
     "data": {
      "text/plain": [
       "5"
      ]
     },
     "execution_count": 279,
     "metadata": {},
     "output_type": "execute_result"
    }
   ],
   "source": [
    "us2cts(2, 32)"
   ]
  },
  {
   "cell_type": "code",
   "execution_count": 235,
   "id": "61fa94de-7ea3-4c84-ad7f-ff7c2e5b9b55",
   "metadata": {},
   "outputs": [
    {
     "data": {
      "text/plain": [
       "433.6467065868263"
      ]
     },
     "execution_count": 235,
     "metadata": {},
     "output_type": "execute_result"
    }
   ],
   "source": [
    "217257/501"
   ]
  },
  {
   "cell_type": "code",
   "execution_count": 149,
   "id": "3751f44b-20ff-417b-a527-78214611c2e9",
   "metadata": {},
   "outputs": [
    {
     "data": {
      "text/plain": [
       "13.96779655820862"
      ]
     },
     "execution_count": 149,
     "metadata": {},
     "output_type": "execute_result"
    }
   ],
   "source": [
    "17179932000 / 1229967227 # / 2**32"
   ]
  },
  {
   "cell_type": "code",
   "execution_count": 263,
   "id": "7a5711a1-04f3-4a1e-8b18-17f82df59047",
   "metadata": {},
   "outputs": [
    {
     "data": {
      "text/plain": [
       "[]"
      ]
     },
     "execution_count": 263,
     "metadata": {},
     "output_type": "execute_result"
    }
   ],
   "source": [
    "get_events(\"ms\")"
   ]
  },
  {
   "cell_type": "code",
   "execution_count": 68,
   "id": "cfd84d25-8ae0-4c3a-8c12-2f11f4895ada",
   "metadata": {},
   "outputs": [
    {
     "data": {
      "text/plain": [
       "'SYNC DEVICE READY\\nSYNC DEVICE READY\\nCould not find pin ABC\\n'"
      ]
     },
     "execution_count": 68,
     "metadata": {},
     "output_type": "execute_result"
    }
   ],
   "source": [
    "w(\"TGL\", \"ABC\", N=2000, interval=9)"
   ]
  },
  {
   "cell_type": "code",
   "execution_count": 70,
   "id": "052c47b6-4abb-46b1-9ee1-03e10133665c",
   "metadata": {},
   "outputs": [
    {
     "data": {
      "text/plain": [
       "b'unknown command Tdf\\n'"
      ]
     },
     "execution_count": 70,
     "metadata": {},
     "output_type": "execute_result"
    }
   ],
   "source": [
    "c.write(pad(\"Tdf \".encode() + \"ABC\".encode()))\n",
    "sleep(0.1)\n",
    "c.readall()"
   ]
  },
  {
   "cell_type": "code",
   "execution_count": 9,
   "id": "e00b56d7-aac9-445c-9d4a-c1d8c61566fb",
   "metadata": {},
   "outputs": [
    {
     "data": {
      "text/plain": [
       "''"
      ]
     },
     "execution_count": 9,
     "metadata": {},
     "output_type": "execute_result"
    }
   ],
   "source": [
    "w(\"STP\")\n",
    "w(\"PPL\", \"A0\", arg2=100, N=0, interval=1000, ts=0)\n",
    "w(\"PPL\", \"A1\", arg2=100, N=0, interval=1000, ts=1)\n",
    "w(\"PPL\", \"A2\", arg2=100, N=0, interval=1000, ts=1)\n",
    "w(\"PPL\", \"A3\", arg2=100, N=0, interval=1000, ts=1)\n",
    "w(\"PPL\", \"A4\", arg2=100, N=0, interval=1000, ts=1)\n",
    "w(\"PPL\", \"A5\", arg2=100, N=0, interval=1000, ts=1)\n",
    "w(\"PPL\", \"A6\", arg2=100, N=0, interval=1000, ts=1)\n",
    "w(\"PPL\", \"A7\", arg2=100, N=0, interval=1000, ts=1)\n",
    "w(\"go!\")"
   ]
  },
  {
   "cell_type": "code",
   "execution_count": null,
   "id": "5ca5874f-19c1-47b9-b44a-50387582e346",
   "metadata": {},
   "outputs": [],
   "source": []
  }
 ],
 "metadata": {
  "kernelspec": {
   "display_name": "Python 3 (ipykernel)",
   "language": "python",
   "name": "python3"
  },
  "language_info": {
   "codemirror_mode": {
    "name": "ipython",
    "version": 3
   },
   "file_extension": ".py",
   "mimetype": "text/x-python",
   "name": "python",
   "nbconvert_exporter": "python",
   "pygments_lexer": "ipython3",
   "version": "3.12.4"
  }
 },
 "nbformat": 4,
 "nbformat_minor": 5
}
